{
 "cells": [
  {
   "cell_type": "markdown",
   "id": "78e29995",
   "metadata": {},
   "source": [
    "# HSE 2022: Mathematical Methods for Data Analysis\n",
    "\n",
    "## Seminar 14: Basic CV: convolutions and CNN\n",
    "\n",
    "<br></br>\n",
    "\n",
    "<center> \n",
    "    <table>\n",
    "        <tr>\n",
    "            <th> Class Teachers </th>\n",
    "            <th> Contact </th>\n",
    "            <th> Group </th>\n",
    "            <th> TA (contact) </th>\n",
    "        </tr> \n",
    "        <tr><td> Andrey Egorov </td><td> tg: @andrei_egorov </td><td> БПИ201, БПИ202 </td><td> Andrei Dyadynov (tg: @mr_dyadyunov), Nikita Tatarinov (tg: @NickyOL) </td></tr>\n",
    "        <tr><td> Kirill Bykov </td><td> tg: @darkydash </td><td> БПИ203, БПИ204 </td><td> Anastasia Egorova (tg: @wwhatisitt), Elizaveta Berdina (tg: @berdina_elis) </td></tr>\n",
    "        <tr><td> Maria Tikhonova </td><td> tg: @mashkka_t </td><td> БПИ205 </td><td> Alexander Stepin (tg: @kevicia) </td></tr>\n",
    "        <tr><td> Anastasia Voronkova </td><td> tg: @kotovasyka </td><td> БПИ206, БПИ207 </td><td> Anton Alekseev (tg: @flameglamebeatskilla), Emil Akopyan (tg: @archivarius) </td></tr>        \n",
    "    </table>\n",
    "\n",
    "</center>\n",
    "\n",
    "Мы научимся решать некоторые задачи компьютерного зрения при помощи нейронных сетей. Основной инструмент работы в этой области — свёртки, с рассмотрения которых мы начнем занятие, а затем перейдём к архитектурам для классификации изображений на их основе.\n",
    "\n",
    "### План\n",
    "1. Учимся работать с картинками средствами **Python**, **NumPy** и **PyTorch**\n",
    "2. Применяем константные свёртки к изображениям\n",
    "3. Сравниваем работу полносвязных и свёрточных сетей на датасете MNIST\n",
    "4. Обучаем свёрточную сеть для задачи классификации изображений CIFAR и смотрим на полученные фильтры свёрточных слоёв\n",
    "5. Разбираемся с тем, что такое аугментации и зачем они нужны\n",
    "6. Узнаём про способы регуляризации и нормализации при обучении нейронных сетей"
   ]
  },
  {
   "cell_type": "code",
   "execution_count": null,
   "id": "20698b98",
   "metadata": {},
   "outputs": [],
   "source": [
    "import warnings\n",
    "\n",
    "import matplotlib.pyplot as plt\n",
    "import numpy as np\n",
    "import torch\n",
    "import torchvision\n",
    "from matplotlib import cm\n",
    "from IPython.display import clear_output\n",
    "from torch import nn, optim\n",
    "from torchvision import transforms\n",
    "from tqdm.auto import tqdm\n",
    "\n",
    "warnings.filterwarnings(\"ignore\")\n",
    "%matplotlib inline"
   ]
  },
  {
   "cell_type": "code",
   "execution_count": null,
   "id": "ee461c0c",
   "metadata": {},
   "outputs": [],
   "source": [
    "device = \"cuda\" if torch.cuda.is_available() else \"cpu\"\n",
    "device"
   ]
  },
  {
   "cell_type": "markdown",
   "id": "c97313b8",
   "metadata": {},
   "source": [
    "## 1. Учимся работать с картинками средствами **Python**, **NumPy** и **PyTorch**\n",
    "\n",
    "### Загружаем изображение с диска"
   ]
  },
  {
   "cell_type": "code",
   "execution_count": null,
   "id": "4d2bec75",
   "metadata": {},
   "outputs": [],
   "source": [
    "# при работе в колабе, скачайте изображение этой командой\n",
    "# !wget https://raw.githubusercontent.com/hushchyn-mikhail/CourseraDL/main/cnn/screencast_1/butterfly.jpg"
   ]
  },
  {
   "cell_type": "code",
   "execution_count": null,
   "id": "153bb5ea",
   "metadata": {},
   "outputs": [],
   "source": [
    "# !pip install Pillow\n",
    "from PIL import Image\n",
    "\n",
    "img = Image.open(\"butterfly.jpeg\")\n",
    "print(f\"Image format: {img.format}; shape: {img.size}; color scheme: {img.mode}\")\n",
    "img"
   ]
  },
  {
   "cell_type": "markdown",
   "id": "fdb6f33a",
   "metadata": {},
   "source": [
    "### Матричное представление изображения\n",
    "\n",
    "Мы знаем, что цветное изображение состоит из 3 числовых матриц или трехмерного тензора. Каждая матрица соответствует одному из 3 базовых цветов: красному, зеленому и синему."
   ]
  },
  {
   "cell_type": "code",
   "execution_count": null,
   "id": "09d89cf1",
   "metadata": {},
   "outputs": [],
   "source": [
    "# преобразуем изображение в массив\n",
    "img_matrix = np.array(img)\n",
    "\n",
    "# (высота, ширина, число каналов)\n",
    "print(f\"Image array shape: {img_matrix.shape}\")\n",
    "\n",
    "plt.imshow(img_matrix)\n",
    "plt.show()"
   ]
  },
  {
   "cell_type": "code",
   "execution_count": null,
   "id": "71b0594a",
   "metadata": {},
   "outputs": [],
   "source": [
    "# посмотрим на все каналы изображения отдельно\n",
    "plt.imshow(img_matrix[:, :, 0], cmap=cm.Reds)\n",
    "plt.show()\n",
    "\n",
    "plt.imshow(img_matrix[:, :, 1], cmap=cm.Greens)\n",
    "plt.show()\n",
    "\n",
    "plt.imshow(img_matrix[:, :, 2], cmap=cm.Blues)\n",
    "plt.show()"
   ]
  },
  {
   "cell_type": "markdown",
   "id": "bd077f34",
   "metadata": {},
   "source": [
    "## 2. Применяем константные свёртки к изображениям\n",
    "\n",
    "### Класс torch.nn.Conv2d\n",
    "В **PyTorch** свёрточный слой представлен в модуле `torch.nn` классом [`Conv2d`](https://pytorch.org/docs/stable/generated/torch.nn.Conv2d.html) с параметрами:\n",
    "- количество входных каналов `in_channels`\n",
    "- количество выходных каналов `out_channels`\n",
    "- размер ядра `kernel_size`\n",
    "- шаг `stride`\n",
    "- паддинг `padding`\n",
    "- режим паддинга `padding_mode` (`'zeros'`, `'reflect'` и др.)\n",
    "- растяжение `dilation`\n",
    "\n",
    "___\n",
    "**Размер ядра** - `int`, если ядро квадратное и кортеж из двух чисел, если ядро прямоугольное. Задает размер фильтра, с которым производится свёртка изображения.\n",
    "\n",
    "**kernel_size=3**\n",
    "\n",
    "![no_padding_no_strides.gif](no_padding_no_strides.gif)\n",
    "\n",
    "Эта и следующие анимации взяты [здесь](https://github.com/vdumoulin/conv_arithmetic).\n",
    "\n",
    "___\n",
    "**Шаг** - задает шаг, в пикселях, на который сдвигается фильтр. `int`, если по горизонтали и вертикали сдвигается на одно и то же число. Кортеж из двух чисел, если сдвиги разные.\n",
    "\n",
    "**stride=2**\n",
    "\n",
    "![no_padding_strides.gif](no_padding_strides.gif)\n",
    "\n",
    "\n",
    "___\n",
    "**Паддинг** - количество пикселей, которыми дополняется изображение. Аналогично шагу и размеру ядра, может быть, как `int`, так и кортежем из двух чисел.\n",
    "\n",
    "**padding=\"half\"**\n",
    "\n",
    "![same_padding_no_strides.gif](same_padding_no_strides.gif)\n",
    "\n",
    "### Свёртка изображений\n",
    "Применим оператор Собеля для детектирования границ на изображении. Для этого пока не будем пользоваться классом `torch.nn.Conv2d`, а возьмём соответствующую функцию из модуля `torch.nn.functional`. В этом модуле примерно все те же самые операторы, что и в `torch.nn`, но только представлениы они не в виде классов, а виде функций."
   ]
  },
  {
   "cell_type": "code",
   "execution_count": null,
   "id": "a62221b7",
   "metadata": {},
   "outputs": [],
   "source": [
    "import torch\n",
    "from torch.nn.functional import conv2d"
   ]
  },
  {
   "cell_type": "markdown",
   "id": "193f0fad",
   "metadata": {},
   "source": [
    "Конвертируем изображение в тензор и переставим размерности в порядке `(batch_size, n_channels, height, width)`, который принят в **PyTorch**."
   ]
  },
  {
   "cell_type": "code",
   "execution_count": null,
   "id": "65722a15",
   "metadata": {},
   "outputs": [],
   "source": [
    "img_matrix.shape"
   ]
  },
  {
   "cell_type": "code",
   "execution_count": null,
   "id": "efad711f",
   "metadata": {},
   "outputs": [],
   "source": [
    "img_tensor = torch.tensor(img_matrix, dtype=torch.float)\n",
    "img_tensor = img_tensor.permute(2, 0, 1).unsqueeze(0)\n",
    "img_tensor.size()"
   ]
  },
  {
   "cell_type": "markdown",
   "id": "d36104d2",
   "metadata": {},
   "source": [
    "Зададим оператор Собеля для детектирования горизонтальных границ"
   ]
  },
  {
   "cell_type": "code",
   "execution_count": null,
   "id": "0c429583",
   "metadata": {},
   "outputs": [],
   "source": [
    "sobel_hor = [[-1, -2, -1], \n",
    "             [ 0,  0,  0], \n",
    "             [ 1,  2,  1]]\n",
    "\n",
    "# одна матрица на каждый канал картинки\n",
    "kernel  = [[sobel_hor, sobel_hor, sobel_hor]]\n",
    "kernel = torch.tensor(kernel, dtype=torch.float)\n",
    "kernel.size()"
   ]
  },
  {
   "cell_type": "code",
   "execution_count": null,
   "id": "62117ff2",
   "metadata": {},
   "outputs": [],
   "source": [
    "# свернём картинку с подготовленным ядром свёртки\n",
    "img_conv_hor = conv2d(img_tensor, kernel)\n",
    "img_conv_hor = img_conv_hor.permute(0, 2, 3, 1)\n",
    "img_conv_hor.size()"
   ]
  },
  {
   "cell_type": "code",
   "execution_count": null,
   "id": "a826a692",
   "metadata": {},
   "outputs": [],
   "source": [
    "plt.figure(figsize=(1.5 * 7, 1.5 * 4))\n",
    "plt.imshow(torch.abs(img_conv_hor[0, :, :, 0]))\n",
    "plt.show()"
   ]
  },
  {
   "cell_type": "markdown",
   "id": "0b4c50bb",
   "metadata": {},
   "source": [
    "Проделаем то же самое для детектирования вертикальных границ"
   ]
  },
  {
   "cell_type": "code",
   "execution_count": null,
   "id": "f67e7d8c",
   "metadata": {},
   "outputs": [],
   "source": [
    "sobel_ver = [[-1, 0, 1], \n",
    "             [-2, 0, 2], \n",
    "             [-1, 0, 1]]\n",
    "\n",
    "# одна матрица на каждый канал картинки\n",
    "kernel  = [[sobel_ver, sobel_ver, sobel_ver]]\n",
    "kernel = torch.tensor(kernel, dtype=torch.float)\n",
    "\n",
    "img_conv_ver = conv2d(img_tensor, kernel)\n",
    "\n",
    "img_conv_ver = img_conv_ver.permute(0, 2, 3, 1)\n",
    "img_conv_ver.size()"
   ]
  },
  {
   "cell_type": "code",
   "execution_count": null,
   "id": "a67dd2e8",
   "metadata": {},
   "outputs": [],
   "source": [
    "plt.figure(figsize=(1.5 * 7, 1.5 * 4))\n",
    "plt.imshow(torch.abs(img_conv_ver[0, :, :, 0]))\n",
    "plt.show()"
   ]
  },
  {
   "cell_type": "markdown",
   "id": "e95c7c6d",
   "metadata": {},
   "source": [
    "Объединим два изображения"
   ]
  },
  {
   "cell_type": "code",
   "execution_count": null,
   "id": "49e5f8ff",
   "metadata": {},
   "outputs": [],
   "source": [
    "img_conv = torch.sqrt(img_conv_ver**2 + img_conv_hor**2)\n",
    "\n",
    "plt.figure(figsize=(1.5 * 7, 1.5 * 4))\n",
    "plt.imshow(img_conv[0, :, :, 0])\n",
    "plt.show()"
   ]
  },
  {
   "cell_type": "markdown",
   "id": "afec97c0",
   "metadata": {},
   "source": [
    "По аналогии с примером выше, свернем изображение со случайным ядром такого же размера."
   ]
  },
  {
   "cell_type": "code",
   "execution_count": null,
   "id": "5ec8a3a8",
   "metadata": {},
   "outputs": [],
   "source": [
    "kernel = torch.rand((1, 3, 3, 3), dtype=torch.float)\n",
    "\n",
    "img_conv_ver = conv2d(img_tensor, kernel)\n",
    "img_conv_ver = img_conv_ver.permute(0, 2, 3, 1)\n",
    "\n",
    "# рисуем результат\n",
    "plt.figure(figsize=(1.5 * 7, 1.5 * 4))\n",
    "plt.imshow(torch.abs(img_conv_ver[0, :, :, 0]))\n",
    "plt.show()"
   ]
  },
  {
   "cell_type": "markdown",
   "id": "7964c0c7",
   "metadata": {},
   "source": [
    "### 3. Сравниваем работу полносвязных и свёрточных сетей на датасете MNIST\n",
    "\n",
    "Сначала решим задачу классификации изображений полносвязной нейронной сетью."
   ]
  },
  {
   "cell_type": "code",
   "execution_count": null,
   "id": "c23eb1fc",
   "metadata": {},
   "outputs": [],
   "source": [
    "import torch.nn.functional as F\n",
    "import torchvision\n",
    "from torch import nn"
   ]
  },
  {
   "cell_type": "markdown",
   "id": "968fc94f",
   "metadata": {},
   "source": [
    "Скачаем и подготовим уже знакомые нам данные для классификации."
   ]
  },
  {
   "cell_type": "code",
   "execution_count": null,
   "id": "3ab011ba",
   "metadata": {},
   "outputs": [],
   "source": [
    "transform = torchvision.transforms.Compose(\n",
    "    [\n",
    "        torchvision.transforms.ToTensor(),\n",
    "        torchvision.transforms.Normalize((0.1307,), (0.3081,))\n",
    "    ]\n",
    ")\n",
    "\n",
    "mnist_train = torchvision.datasets.MNIST(\n",
    "    \"./mnist/\", \n",
    "    train=True, \n",
    "    download=True, \n",
    "    transform=transform\n",
    ") \n",
    "mnist_val = torchvision.datasets.MNIST(\n",
    "    \"./mnist/\",\n",
    "    train=False, \n",
    "    download=True,\n",
    "    transform=transform\n",
    ")\n",
    "\n",
    "\n",
    "train_dataloader = torch.utils.data.DataLoader(mnist_train, batch_size=64, shuffle=True)\n",
    "val_dataloader = torch.utils.data.DataLoader(mnist_val, batch_size=64, shuffle=False)"
   ]
  },
  {
   "cell_type": "markdown",
   "id": "4283b06e",
   "metadata": {},
   "source": [
    "Подготовим цикл обучения."
   ]
  },
  {
   "cell_type": "code",
   "execution_count": null,
   "id": "99abcfe9",
   "metadata": {},
   "outputs": [],
   "source": [
    "def train(model, optimizer, n_epochs=5):\n",
    "    for epoch in range(n_epochs):\n",
    "        # тренировка\n",
    "        for x_train, y_train in tqdm(train_dataloader):\n",
    "            y_pred = model(x_train)\n",
    "            loss = F.cross_entropy(y_pred, y_train)\n",
    "            loss.backward()\n",
    "            optimizer.step()\n",
    "            optimizer.zero_grad()\n",
    "\n",
    "        # валидация\n",
    "        if epoch % 2 == 0:\n",
    "            val_loss = []\n",
    "            val_accuracy = []\n",
    "            with torch.no_grad():\n",
    "                for x_val, y_val in tqdm(val_dataloader):\n",
    "                    y_pred = model(x_val)\n",
    "                    loss = F.cross_entropy(y_pred, y_val)\n",
    "                    val_loss.append(loss.numpy())\n",
    "                    val_accuracy.extend((torch.argmax(y_pred, dim=-1) == y_val).numpy().tolist())\n",
    "\n",
    "            # печатаем метрики\n",
    "            print(f\"Epoch: {epoch}, loss: {np.mean(val_loss)}, accuracy: {np.mean(val_accuracy)}\")"
   ]
  },
  {
   "cell_type": "markdown",
   "id": "215a4a63",
   "metadata": {},
   "source": [
    "Обучим полносвязную архитектуру."
   ]
  },
  {
   "cell_type": "code",
   "execution_count": null,
   "id": "24b92372",
   "metadata": {
    "scrolled": false
   },
   "outputs": [],
   "source": [
    "model = nn.Sequential(\n",
    "    nn.Flatten(),             # превращаем картинку 28х28 в вектор размером 784\n",
    "    nn.Linear(28 * 28, 128),  # линейный слой, преобразующий вектор размера 784 в вектор размера 128\n",
    "    nn.ReLU(),                # нелинейность\n",
    "    nn.Linear(128, 10),       # линейный слой, преобразующий вектор размера 128 в вектор размера 10\n",
    ")\n",
    "\n",
    "optimizer = torch.optim.SGD(model.parameters(), lr=0.01) # создаем оптимизатор и передаем туда параметры модели"
   ]
  },
  {
   "cell_type": "code",
   "execution_count": null,
   "id": "7b877272",
   "metadata": {},
   "outputs": [],
   "source": [
    "print(f\"Training model with {sum([x[1].numel() for x in model.named_parameters()])} parameters\")\n",
    "train(model, optimizer)"
   ]
  },
  {
   "cell_type": "markdown",
   "id": "9ef3b855",
   "metadata": {},
   "source": [
    "Изменим архитектуру, добавив в неё свёрточные слои."
   ]
  },
  {
   "cell_type": "code",
   "execution_count": null,
   "id": "5af53ba6",
   "metadata": {},
   "outputs": [],
   "source": [
    "model = nn.Sequential(\n",
    "    nn.Conv2d(in_channels=1, out_channels=10, kernel_size=5), # добавим свёрточный слой с 10 ядрами\n",
    "    nn.ReLU(),\n",
    "    nn.MaxPool2d(kernel_size=4),  # уменьшим картинку в 4 раза по каждой стороне\n",
    "    nn.Flatten(),                 # превращаем картинку 6х6х10 в вектор размером 360\n",
    "    nn.Linear(6*6*10, 128),       # линейный слой, преобразующий вектор размера 360 в вектор размера 128\n",
    "    nn.ReLU(),                    # нелинейность\n",
    "    nn.Linear(128, 10),           # отображение в пространство размерности числа меток классификации\n",
    ")\n",
    "\n",
    "optimizer = torch.optim.SGD(model.parameters(), lr=0.01)"
   ]
  },
  {
   "cell_type": "code",
   "execution_count": null,
   "id": "d5bc8599",
   "metadata": {},
   "outputs": [],
   "source": [
    "print(f\"Training model with {sum([x[1].numel() for x in model.named_parameters()])} parameters\")\n",
    "train(model, optimizer)"
   ]
  },
  {
   "cell_type": "markdown",
   "id": "6e12b759",
   "metadata": {},
   "source": [
    "По аналогии с предыдущим примером, обучим нейронную сеть, у которой будут следующие слои:\n",
    "\n",
    "- Свёрточный слой с 10 ядрами размером 5\n",
    "- Функция активации ReLU\n",
    "- Уменьшить картинку в 2 раза (по каждому измерению)\n",
    "- Свёрточный слой с 20 ядрами размером 5\n",
    "- Функция активации ReLU\n",
    "- Уменьшить картинку в 2 раза (по каждому измерению)\n",
    "- Полносвязный слой со 128 нейронами\n",
    "- Функция активации ReLU\n",
    "- Выходной слой\n",
    "\n",
    "Сделаем решение с моделью в виде класса, отнаследованного от `torch.nn.Module`."
   ]
  },
  {
   "cell_type": "code",
   "execution_count": null,
   "id": "d6dc2db3",
   "metadata": {},
   "outputs": [],
   "source": [
    "model = nn.Sequential(\n",
    "    nn.Conv2d(in_channels=1, out_channels=10, kernel_size=5),   # добавим свёрточный слой с 10 ядрами\n",
    "    nn.ReLU(),                                                  # нелинейность\n",
    "    nn.MaxPool2d(kernel_size=2),                                # уменьшим картинку в 2 раза\n",
    "    nn.Conv2d(in_channels=10, out_channels=20, kernel_size=5),  # добавим свёрточный слой с 20 ядрами\n",
    "    nn.ReLU(),                    # нелинейность\n",
    "    nn.MaxPool2d(kernel_size=2),  # уменьшим картинку в 2 раза\n",
    "    nn.Flatten(),                 # превращаем картинку 4х4х20 в вектор размером 320\n",
    "    nn.Linear(4*4*20, 128),       # линейный слой, преобразующий вектор размера 320 в вектор размера 128\n",
    "    nn.ReLU(),                    # нелинейность\n",
    "    nn.Linear(128, 10),           # отображение в пространство размерности числа меток классификации\n",
    ")\n",
    "\n",
    "optimizer = torch.optim.SGD(model.parameters(), lr=0.01)"
   ]
  },
  {
   "cell_type": "code",
   "execution_count": null,
   "id": "df7a5294",
   "metadata": {},
   "outputs": [],
   "source": [
    "train(model, optimizer)"
   ]
  },
  {
   "cell_type": "markdown",
   "id": "5fdde4cb",
   "metadata": {},
   "source": [
    "## 4. Обучаем свёрточную сеть для задачи классификации изображений CIFAR\n",
    "\n",
    "Теперь поработаем с другим датасетом - [CIFAR-10](https://www.cs.toronto.edu/~kriz/cifar.html), \n",
    "в котором содержатся изображения 10 классов размером 32 на 32 пикселя с тремя каналами. В тренировочной выборке 50000 изображений, а в тестовой 10000. Загрузим его аналогично тому, как мы загружали MNIST."
   ]
  },
  {
   "cell_type": "code",
   "execution_count": null,
   "id": "71a7e4db",
   "metadata": {},
   "outputs": [],
   "source": [
    "transform = transforms.Compose(\n",
    "    [\n",
    "        transforms.ToTensor(),\n",
    "        transforms.Normalize((0.4914, 0.4822, 0.4465), (0.247, 0.243, 0.261))\n",
    "    ]\n",
    ")\n",
    "\n",
    "cifar_train = torchvision.datasets.CIFAR10(\n",
    "    root=\"./cifar\", \n",
    "    train=True,                             \n",
    "    download=True, \n",
    "    transform=transform\n",
    ")\n",
    "cifar_val = torchvision.datasets.CIFAR10(\n",
    "    root=\"./cifar\", \n",
    "    train=False,\n",
    "    download=True, \n",
    "    transform=transform\n",
    ")\n",
    "\n",
    "train_dataloader = torch.utils.data.DataLoader(\n",
    "    cifar_train,\n",
    "    batch_size=32,\n",
    "    shuffle=True, \n",
    "    num_workers=4\n",
    ")\n",
    "val_dataloader = torch.utils.data.DataLoader(\n",
    "    cifar_val,\n",
    "    batch_size=32,\n",
    "    shuffle=False, \n",
    "    num_workers=4\n",
    ")"
   ]
  },
  {
   "cell_type": "code",
   "execution_count": null,
   "id": "0e86acbf",
   "metadata": {},
   "outputs": [],
   "source": [
    "def matplotlib_imshow(img, one_channel=False):\n",
    "    if one_channel:\n",
    "        img = img.mean(dim=0)\n",
    "    img = img / 2 + 0.5\n",
    "    npimg = img.numpy()\n",
    "    if one_channel:\n",
    "        plt.imshow(npimg, cmap=\"Greys\")\n",
    "    else:\n",
    "        plt.imshow(np.transpose(npimg, (1, 2, 0)))"
   ]
  },
  {
   "cell_type": "code",
   "execution_count": null,
   "id": "ff40de72",
   "metadata": {},
   "outputs": [],
   "source": [
    "images, labels = next(iter(train_dataloader))\n",
    "\n",
    "plt.figure(figsize=(12,12))\n",
    "# create grid of images\n",
    "img_grid = torchvision.utils.make_grid(images)\n",
    "# show images\n",
    "matplotlib_imshow(img_grid, one_channel=False)"
   ]
  },
  {
   "cell_type": "code",
   "execution_count": null,
   "id": "7440f2d5",
   "metadata": {},
   "outputs": [],
   "source": [
    "def plot_history(train_history, val_history, title=\"loss\"):\n",
    "    plt.figure()\n",
    "    plt.title(title)\n",
    "    plt.plot(train_history, label=\"train\", zorder=1)\n",
    "    \n",
    "    points = np.array(val_history)\n",
    "    steps = list(range(0, len(train_history) + 1, int(len(train_history) / len(val_history))))[1:]\n",
    "    \n",
    "    plt.scatter(steps, val_history, marker='+', s=180, c=\"orange\", label=\"val\", zorder=2)\n",
    "    plt.xlabel(\"train steps\")\n",
    "    \n",
    "    plt.legend(loc=\"best\")\n",
    "    plt.grid()\n",
    "\n",
    "    plt.show()"
   ]
  },
  {
   "cell_type": "markdown",
   "id": "66697732",
   "metadata": {},
   "source": [
    "В качестве бейзлайна построим следующую архитектуру из 1 VGG блока:\n",
    "\n",
    "1) VGG блок с 16 каналами:\n",
    "* свёрточный слой с 16 выходными каналами и ядром 3x3, паддингом и нелинейностью ReLU\n",
    "* свёрточный слой с 16 выходными каналами и ядром 3x3, паддингом и нелинейностью ReLU\n",
    "* Max pooling c ядром 2x2 и шагом 2\n",
    "\n",
    "2) Полносвязный слой с 128 выходами и нелинейностью ReLU\n",
    "\n",
    "3) Полносвязный слой с 10 выходами и Softmax"
   ]
  },
  {
   "cell_type": "code",
   "execution_count": null,
   "id": "7f84c83a",
   "metadata": {},
   "outputs": [],
   "source": [
    "class ModelBaseline(nn.Module):\n",
    "    def __init__(self):\n",
    "        super().__init__()\n",
    "        self.vgg = nn.Sequential(\n",
    "            nn.Conv2d(3, 16, 3, padding=1),\n",
    "            nn.ReLU(),\n",
    "            nn.Conv2d(16, 16, 3, padding=1),\n",
    "            nn.ReLU(),\n",
    "            nn.MaxPool2d(2, stride=2)\n",
    "        )\n",
    "        self.fc1 = nn.Linear(16 * 16 * 16, 128)\n",
    "        self.relu = nn.ReLU()\n",
    "        self.fc2 = nn.Linear(128, 10)\n",
    "\n",
    "        \n",
    "    def forward(self, x):\n",
    "        # x: (batch_size, n_channels, height, width)\n",
    "        x = self.vgg(x)\n",
    "        x = nn.Flatten()(x)\n",
    "        x = self.relu(self.fc1(x))\n",
    "        x = self.fc2(x)\n",
    "        return x"
   ]
  },
  {
   "cell_type": "code",
   "execution_count": null,
   "id": "6c3a8d0b",
   "metadata": {},
   "outputs": [],
   "source": [
    "def train(model, criterion, optimizer, train_dataloader, val_dataloader, n_epochs=5):\n",
    "    train_loss_log, train_acc_log, val_loss_log, val_acc_log = [], [], [], []\n",
    "    \n",
    "    for epoch in range(n_epochs):\n",
    "        # тренировка\n",
    "        train_epoch_loss, train_epoch_true_hits = torch.empty(0), torch.empty(0)\n",
    "        model.train()\n",
    "        for imgs, labels in tqdm(train_dataloader, desc=f\"Training, epoch {epoch}\", leave=False):\n",
    "            imgs, labels = imgs.to(device), labels.to(device)\n",
    "            \n",
    "            y_pred = model(imgs)\n",
    "            loss = criterion(y_pred, labels)\n",
    "            loss.backward()\n",
    "            optimizer.step()\n",
    "            optimizer.zero_grad()\n",
    "            \n",
    "            # log loss for the current epoch and the whole training history\n",
    "            train_epoch_loss = torch.cat((train_epoch_loss, loss.cpu().unsqueeze(0) / labels.cpu().size(0)))\n",
    "            train_loss_log.append(loss.cpu().data / labels.cpu().size(0))\n",
    "\n",
    "            # log accuracy for the current epoch and the whole training history\n",
    "            pred_classes = torch.argmax(y_pred.cpu(), dim=-1)\n",
    "            train_epoch_true_hits = torch.cat((\n",
    "                train_epoch_true_hits, \n",
    "                (pred_classes == labels.cpu()).sum().unsqueeze(0)\n",
    "            ))\n",
    "            train_acc_log.append((pred_classes == labels.cpu()).sum() / labels.cpu().shape[0])\n",
    "\n",
    "\n",
    "        # валидация\n",
    "        val_epoch_loss, val_epoch_true_hits = torch.empty(0), torch.empty(0)\n",
    "        model.eval()\n",
    "        with torch.no_grad():\n",
    "            for imgs, labels in tqdm(val_dataloader, desc=f\"Validating, epoch {epoch}\", leave=False):\n",
    "                imgs, labels = imgs.to(device), labels.to(device)\n",
    "                \n",
    "                y_pred = model(imgs)\n",
    "                loss = criterion(y_pred, labels)\n",
    "                val_epoch_loss = torch.cat((val_epoch_loss, loss.cpu().unsqueeze(0) / labels.cpu().size(0)))\n",
    "\n",
    "                pred_classes = torch.argmax(y_pred.cpu(), dim=-1)\n",
    "                val_epoch_true_hits = torch.cat((\n",
    "                    val_epoch_true_hits,\n",
    "                    (pred_classes == labels.cpu()).sum().unsqueeze(0)\n",
    "                ))\n",
    "        \n",
    "        \n",
    "        val_loss_log.append(val_epoch_loss.mean())\n",
    "        val_acc_log.append(val_epoch_true_hits.sum() / val_epoch_true_hits.size(0) / val_dataloader.batch_size)\n",
    "        clear_output()\n",
    "        plot_history(train_loss_log, val_loss_log, \"loss\")\n",
    "        plot_history(train_acc_log, val_acc_log, \"accuracy\")\n",
    "\n",
    "        print(\"Train loss:\", train_epoch_loss.mean().item())\n",
    "        print(\n",
    "            \"Train acc:\", \n",
    "            (train_epoch_true_hits.sum() / train_epoch_true_hits.size(0) / train_dataloader.batch_size).item()\n",
    "        )\n",
    "        print(\"Val loss:\", val_epoch_loss.mean().item())\n",
    "        print(\n",
    "            \"Val acc:\", \n",
    "            (val_epoch_true_hits.sum() / val_epoch_true_hits.size(0) / val_dataloader.batch_size).item()\n",
    "        )"
   ]
  },
  {
   "cell_type": "code",
   "execution_count": null,
   "id": "60af1225",
   "metadata": {},
   "outputs": [],
   "source": [
    "model_baseline = ModelBaseline().to(device)\n",
    "criterion = nn.CrossEntropyLoss()\n",
    "optimizer = optim.SGD(model_baseline.parameters(), lr=0.001, momentum=0.9)\n",
    "\n",
    "train(model_baseline, criterion, optimizer, train_dataloader, val_dataloader)"
   ]
  },
  {
   "cell_type": "markdown",
   "id": "f5133db7",
   "metadata": {},
   "source": [
    "### Визуализируем параметры сети"
   ]
  },
  {
   "cell_type": "code",
   "execution_count": null,
   "id": "c46f9911",
   "metadata": {},
   "outputs": [],
   "source": [
    "# Запустите эти ячейки при работе из колаба\n",
    "# !wget https://raw.githubusercontent.com/hse-ds/iad-deep-learning/master/2022/seminars/sem03/filter_viz.py\n",
    "\n",
    "# import sys\n",
    "# from google.colab import drive\n",
    "\n",
    "# drive.mount(\"/content/gdrive\")\n",
    "# sys.path.append(\"/content/gdrive/My Drive\")"
   ]
  },
  {
   "cell_type": "code",
   "execution_count": null,
   "id": "177d397a",
   "metadata": {},
   "outputs": [],
   "source": [
    "!wget https://raw.githubusercontent.com/hse-ds/iad-deep-learning/master/2022/seminars/sem03/filter_viz.py\n",
    "from filter_viz import plot_filters"
   ]
  },
  {
   "cell_type": "code",
   "execution_count": null,
   "id": "67ed12c8",
   "metadata": {},
   "outputs": [],
   "source": [
    "model_baseline.cpu()"
   ]
  },
  {
   "cell_type": "code",
   "execution_count": null,
   "id": "2b05e6f5",
   "metadata": {},
   "outputs": [],
   "source": [
    "plot_filters(model_baseline.vgg[0], single_channel=False)"
   ]
  },
  {
   "cell_type": "code",
   "execution_count": null,
   "id": "4f0cb3fa",
   "metadata": {},
   "outputs": [],
   "source": [
    "plot_filters(model_baseline.vgg[0], single_channel=True)"
   ]
  },
  {
   "cell_type": "code",
   "execution_count": null,
   "id": "7719fabb",
   "metadata": {},
   "outputs": [],
   "source": [
    "plot_filters(model_baseline.vgg[2], single_channel=True)"
   ]
  },
  {
   "cell_type": "markdown",
   "id": "b93f5c23",
   "metadata": {},
   "source": [
    "Поэкспериментируем с функциями активации сети. Заменим ReLU на LeakyReLU, ELU или SELU. Как замена влияет на качество и скорость сходимости?\n",
    "\n",
    "Почитать про разные функции активации можно [здесь](https://mlfromscratch.com/activation-functions-explained/#/)."
   ]
  },
  {
   "cell_type": "code",
   "execution_count": null,
   "id": "7a3d57f3",
   "metadata": {},
   "outputs": [],
   "source": [
    "class ModelBaseline(nn.Module):\n",
    "    def __init__(self, activation = nn.ReLU):\n",
    "        super().__init__()\n",
    "        self.vgg = nn.Sequential(\n",
    "            nn.Conv2d(3, 16, 3, padding=1),\n",
    "            activation(),\n",
    "            nn.Conv2d(16, 16, 3, padding=1),\n",
    "            activation(),\n",
    "            nn.MaxPool2d(2, stride=2)\n",
    "        )\n",
    "        self.fc1 = nn.Linear(16 * 16 * 16, 128)\n",
    "        self.act = activation()\n",
    "        self.fc2 = nn.Linear(128, 10)\n",
    "\n",
    "        \n",
    "    def forward(self, x):\n",
    "        x = self.vgg(x)\n",
    "        x = nn.Flatten()(x)\n",
    "        x = self.act(self.fc1(x))\n",
    "        x = self.fc2(x)\n",
    "        return x\n",
    "        \n",
    "        \n",
    "model_baseline2 = ModelBaseline(activation=nn.LeakyReLU).to(device)\n",
    "criterion = nn.CrossEntropyLoss()\n",
    "optimizer = optim.SGD(model_baseline2.parameters(), lr=0.001, momentum=0.9)\n",
    "\n",
    "train(model_baseline2, criterion, optimizer, train_dataloader, val_dataloader)"
   ]
  },
  {
   "cell_type": "markdown",
   "id": "7c6e7f2d",
   "metadata": {},
   "source": [
    "C LeakyReLU работает немного лучше)"
   ]
  },
  {
   "cell_type": "markdown",
   "id": "b7aea4d3",
   "metadata": {},
   "source": [
    "## 5. Аугментации\n",
    "\n",
    "Аугментация данных - очень мощный процесс, который позволяет увеличить количество тренировочных данных. С помощью поворотов, отражения, добавления шума, сдвигов и других преобразований, картинка немного меняется, однако сохраняет свою прежнюю метку. С помощью функции Compose можно объединять несколько трансформаций изображения, а потом применять их при чтении датасета. Полный список аугментаций доступен [тут](https://pytorch.org/vision/stable/transforms.html). Изучите его и поэкспериментируйте с различными трансформациями изображения.\n",
    "\n",
    "Довольно мощным и эффективным инструментом для аугментаций на картинках является библиотека `albumentations`. В этом курсе мы не будем её рассматривать, но можете поэкспериментировать с ней сами."
   ]
  },
  {
   "cell_type": "code",
   "execution_count": null,
   "id": "10a9fc65",
   "metadata": {},
   "outputs": [],
   "source": [
    "import PIL\n",
    "\n",
    "transform = transforms.Compose(\n",
    "    [\n",
    "        transforms.ColorJitter(hue=.05, saturation=.05),\n",
    "        transforms.RandomHorizontalFlip(),\n",
    "        transforms.RandomRotation(20, resample=PIL.Image.BILINEAR),\n",
    "        transforms.ToTensor(),\n",
    "        transforms.Normalize((0.5, 0.5, 0.5), (0.5, 0.5, 0.5))\n",
    "    ]\n",
    ")\n",
    "\n",
    "base_transform = torchvision.transforms.Compose(\n",
    "    [\n",
    "        torchvision.transforms.ToTensor(),\n",
    "        transforms.Normalize((0.5, 0.5, 0.5), (0.5, 0.5, 0.5))\n",
    "    ]\n",
    ")\n",
    "\n",
    "cifar_train = torchvision.datasets.CIFAR10(\n",
    "    root=\"./cifar\",\n",
    "    train=True,\n",
    "    download=True,\n",
    "    transform=transform\n",
    ")\n",
    "cifar_val = torchvision.datasets.CIFAR10(\n",
    "    root=\"./cifar\",\n",
    "    train=False,\n",
    "    download=True,\n",
    "    transform=base_transform\n",
    ")\n",
    "\n",
    "train_dataloader = torch.utils.data.DataLoader(\n",
    "    cifar_train,\n",
    "    batch_size=32,\n",
    "    shuffle=True,\n",
    "    num_workers=4\n",
    ")\n",
    "val_dataloader = torch.utils.data.DataLoader(\n",
    "    cifar_val,\n",
    "    batch_size=32,\n",
    "    shuffle=False,\n",
    "    num_workers=4\n",
    ")"
   ]
  },
  {
   "cell_type": "code",
   "execution_count": null,
   "id": "bdf0eea9",
   "metadata": {},
   "outputs": [],
   "source": [
    "images, labels = next(iter(train_dataloader))\n",
    "\n",
    "plt.figure(figsize=(12,12))\n",
    "# create grid of images\n",
    "img_grid = torchvision.utils.make_grid(images)\n",
    "# show images\n",
    "matplotlib_imshow(img_grid, one_channel=False)"
   ]
  },
  {
   "cell_type": "code",
   "execution_count": null,
   "id": "4d42ea64",
   "metadata": {},
   "outputs": [],
   "source": [
    "model_baseline = ModelBaseline().to(device)\n",
    "criterion = nn.CrossEntropyLoss()\n",
    "optimizer = optim.SGD(model_baseline.parameters(), lr=0.001, momentum=0.9)\n",
    "\n",
    "train(model_baseline, criterion, optimizer, train_dataloader, val_dataloader)"
   ]
  },
  {
   "cell_type": "markdown",
   "id": "f27a2282",
   "metadata": {},
   "source": [
    "## 6. Регуляризации и нормализации в нейронных сетях\n",
    "\n",
    "### Dropout\n",
    "Если сеть имеет сложную архитектуру, то возможно переобучение - процесс, в котором модель слишком сильно подстраивается под тренировочную выборку и потом дает заниженное качество на тестовой. Для борьбы с этим можно использовать Dropout. Идея метода очень проста. На тренировке `torch.nn.Dropout` зануляет каждый элемент входного тензора с вероятностью $p$. На инференсе ничего не зануляется, но, для того, чтобы сохранить масштаб выходов сети, все элементы входного тензора делятся на $1 - p$.\n",
    "\n",
    "![Dropout](dropout.png)\n",
    "\n",
    "Для стабилизации и ускорения сходимости обучения часто используют батч нормализацию. В **PyTorch** она тоже имплементирована в виде слоя — [`torch.nn.BatchNorm2d`](https://pytorch.org/docs/stable/generated/torch.nn.BatchNorm2d.html). Обычно батч нормализацию вставляют между смысловыми блоками нейронной сети, чтобы сохранять распределение данных на всём forward pass. Обратите внимание, что на тренировке выборочные среднее и стандартное отклонение каждый раз заново вычисляются по батчу, а также у слоя есть обучаемых два числовых параметра на каждый канал входного тензора. На инференсе в качестве среднего и дисперсии используются оценки, полученные скользящими средними во время тренировки.\n",
    "\n",
    "![Batch Norm](batch_norm.png)\n",
    "\n",
    "Давайте обучим новую сеть, в которой будет 3 VGG блока и добавим в неё батч нормализацию и дропаут."
   ]
  },
  {
   "cell_type": "code",
   "execution_count": null,
   "id": "61143300",
   "metadata": {},
   "outputs": [],
   "source": [
    "model = nn.Sequential(\n",
    "    nn.Conv2d(3, 16, 3, padding=1),\n",
    "    nn.BatchNorm2d(16),\n",
    "    nn.ReLU(),\n",
    "    nn.Conv2d(16, 16, 3, padding=1),\n",
    "    nn.BatchNorm2d(16),\n",
    "    nn.ReLU(),\n",
    "    nn.MaxPool2d(2, 2),\n",
    "    nn.Dropout(0.2),\n",
    "\n",
    "    nn.Conv2d(16, 32, 3, padding=1),\n",
    "    nn.BatchNorm2d(32),\n",
    "    nn.ReLU(),\n",
    "    nn.Conv2d(32, 32, 3, padding=1),\n",
    "    nn.BatchNorm2d(32),\n",
    "    nn.ReLU(),\n",
    "    nn.MaxPool2d(2, 2),\n",
    "    nn.Dropout(0.2),\n",
    "\n",
    "    nn.Conv2d(32, 64, 3, padding=1),\n",
    "    nn.BatchNorm2d(64),\n",
    "    nn.ReLU(),\n",
    "    nn.Conv2d(64, 64, 3, padding=1),\n",
    "    nn.BatchNorm2d(64),\n",
    "    nn.ReLU(),\n",
    "    nn.MaxPool2d(2, 2),\n",
    "    nn.Dropout(0.2),\n",
    "\n",
    "    nn.Flatten(),\n",
    "    nn.Linear(64 * 4 * 4, 128),\n",
    "    nn.BatchNorm1d(128),\n",
    "    nn.ReLU(),\n",
    "    nn.Dropout(0.5),\n",
    "    nn.Linear(128, 10),\n",
    ")"
   ]
  },
  {
   "cell_type": "code",
   "execution_count": null,
   "id": "486aff13",
   "metadata": {},
   "outputs": [],
   "source": [
    "model.to(device)\n",
    "criterion = nn.CrossEntropyLoss()\n",
    "optimizer = optim.SGD(model.parameters(), lr=0.001, momentum=0.9)"
   ]
  },
  {
   "cell_type": "code",
   "execution_count": null,
   "id": "d5428de4",
   "metadata": {},
   "outputs": [],
   "source": [
    "train(model, criterion, optimizer, train_dataloader, val_dataloader)"
   ]
  },
  {
   "cell_type": "code",
   "execution_count": null,
   "id": "b9a566d1",
   "metadata": {},
   "outputs": [],
   "source": []
  }
 ],
 "metadata": {
  "kernelspec": {
   "display_name": "Python 3 (ipykernel)",
   "language": "python",
   "name": "python3"
  },
  "language_info": {
   "codemirror_mode": {
    "name": "ipython",
    "version": 3
   },
   "file_extension": ".py",
   "mimetype": "text/x-python",
   "name": "python",
   "nbconvert_exporter": "python",
   "pygments_lexer": "ipython3",
   "version": "3.7.12"
  }
 },
 "nbformat": 4,
 "nbformat_minor": 5
}

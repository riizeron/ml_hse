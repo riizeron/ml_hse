{
 "cells": [
  {
   "cell_type": "markdown",
   "metadata": {},
   "source": [
    "# HSE 2022: Mathematical Methods for Data Analysis\n",
    "\n",
    "## Homework 1"
   ]
  },
  {
   "cell_type": "markdown",
   "metadata": {},
   "source": [
    "### Attention!\n",
    "* For tasks where <ins>text answer</ins> is required **Russian language** is **allowed**.\n",
    "* If a task asks you to describe something (make coclusions) then **text answer** is **mandatory** and **is** part of the task\n",
    "* **Do not** upload the dataset (titanic.csv) to the grading system (we already have it)\n",
    "* We **only** accept **ipynb** notebooks. If you use Google Colab then you'll have to download the notebook before passing the homework\n",
    "* **Do not** use python loops instead of NumPy vector operations over NumPy vectors - it significantly decreases performance (see why https://blog.paperspace.com/numpy-optimization-vectorization-and-broadcasting/), will be punished with -0.25 for **every** task. \n",
    "Loops are only allowed in part 1 (Tasks 1 - 4). \n",
    "* Some tasks contain tests. They only test you solution on a simple example, thus, passing the test does **not** guarantee you the full grade for the task. "
   ]
  },
  {
   "cell_type": "code",
   "execution_count": 1,
   "metadata": {},
   "outputs": [],
   "source": [
    "%matplotlib inline\n",
    "\n",
    "import numpy as np\n",
    "import pandas as pd\n",
    "import matplotlib.pyplot as plt\n",
    "import seaborn as sns"
   ]
  },
  {
   "cell_type": "markdown",
   "metadata": {},
   "source": [
    "# 1. Python (2 points) "
   ]
  },
  {
   "cell_type": "markdown",
   "metadata": {},
   "source": [
    "**Task 1** (0.5 points)<br/> \n",
    "Enter nonzero numbers `a`,  `r` and `N`. Find the first `N` members of geometric progression with the first member `a` and factor `r`, without using formula for the product."
   ]
  },
  {
   "cell_type": "code",
   "execution_count": 7,
   "metadata": {},
   "outputs": [
    {
     "name": "stdout",
     "output_type": "stream",
     "text": [
      "[2.0, 6.0, 18.0]\n"
     ]
    }
   ],
   "source": [
    "def find_product(a,r,N):\n",
    "     return [np.round(np.exp(i * np.log(r)) * a) for i in range(0, N)]\n",
    "    \n",
    "a = 2\n",
    "r = 3\n",
    "N = 3\n",
    "print(find_product(a,r,N))"
   ]
  },
  {
   "cell_type": "markdown",
   "metadata": {},
   "source": [
    "**Task 2** (0.5 points) <br/> \n",
    "Enter an integer number `N`. Check if it is a palindrome number. It means that it can be read equally from left to right and from right to back. "
   ]
  },
  {
   "cell_type": "code",
   "execution_count": 21,
   "metadata": {},
   "outputs": [
    {
     "name": "stdout",
     "output_type": "stream",
     "text": [
      "3 True\n",
      "81 False\n",
      "111 True\n",
      "113 False\n",
      "810 False\n",
      "2022 False\n",
      "4774 True\n",
      "51315 True\n",
      "611816 False\n"
     ]
    }
   ],
   "source": [
    "def check_palindrome(N):\n",
    "    rev_N = int(''.join(reversed(list(str(N)))))\n",
    "        \n",
    "    ## Your code here''\n",
    "    return N == rev_N\n",
    "\n",
    "for N in [3, 81, 111, 113, 810, 2022, 4774, 51315, 611816]:\n",
    "    print(N, check_palindrome(N))"
   ]
  },
  {
   "cell_type": "markdown",
   "metadata": {},
   "source": [
    "**Task 3** (0.5 points) <br/> \n",
    "Find the first `N` palindrome numbers starting from 1000 (you may use the function from the precious task)."
   ]
  },
  {
   "cell_type": "code",
   "execution_count": 22,
   "metadata": {},
   "outputs": [
    {
     "name": "stdout",
     "output_type": "stream",
     "text": [
      "[1001, 1111, 1221, 1331, 1441]\n",
      "[1001, 1111, 1221, 1331, 1441, 1551, 1661, 1771, 1881, 1991]\n",
      "[1001, 1111, 1221, 1331, 1441, 1551, 1661, 1771, 1881, 1991, 2002, 2112, 2222, 2332, 2442, 2552, 2662, 2772, 2882, 2992]\n"
     ]
    }
   ],
   "source": [
    "def find_palindromes(N):\n",
    "    n = 1000\n",
    "    palindromes = []\n",
    "    while N:\n",
    "        if check_palindrome(n):\n",
    "            palindromes.append(n)\n",
    "            N -= 1\n",
    "        n += 1\n",
    "\n",
    "    return palindromes\n",
    "\n",
    "print(find_palindromes(5))\n",
    "print(find_palindromes(10))\n",
    "print(find_palindromes(20))"
   ]
  },
  {
   "cell_type": "markdown",
   "metadata": {},
   "source": [
    "**Task 4** (0.5 points) <br/> \n",
    "There are numbers: `a`, `b`, `c`. Without using functions `min`, `max` and other functions, find the minimum number."
   ]
  },
  {
   "cell_type": "code",
   "execution_count": 23,
   "metadata": {},
   "outputs": [
    {
     "name": "stdout",
     "output_type": "stream",
     "text": [
      "85 -37 -60 \tMinimum: -60\n",
      "-58 -45 -3 \tMinimum: -58\n",
      "-97 75 24 \tMinimum: -97\n",
      "-13 20 5 \tMinimum: -13\n",
      "-99 43 93 \tMinimum: -99\n",
      "-59 -43 -39 \tMinimum: -59\n",
      "10 97 -50 \tMinimum: -50\n",
      "-27 -97 -66 \tMinimum: -97\n",
      "-1 60 -100 \tMinimum: -100\n",
      "29 0 -43 \tMinimum: -43\n"
     ]
    }
   ],
   "source": [
    "from random import randint\n",
    "def find_min(a, b, c):\n",
    "    if a < b:\n",
    "        if a < c:\n",
    "            min_ = a\n",
    "        else:\n",
    "            min_ = c\n",
    "    else:\n",
    "        if b < c:\n",
    "            min_ = b\n",
    "        else:\n",
    "            min_ = c\n",
    "            \n",
    "    return min_\n",
    "\n",
    "for i in range(10):\n",
    "    \n",
    "    a = randint(-100, 100)\n",
    "    b = randint(-100, 100)\n",
    "    c = randint(-100, 100)\n",
    "    \n",
    "    print(a, b, c, '\\tMinimum:', find_min(a, b, c))"
   ]
  },
  {
   "cell_type": "markdown",
   "metadata": {},
   "source": [
    "# 2. Numpy (4 points)"
   ]
  },
  {
   "cell_type": "markdown",
   "metadata": {},
   "source": [
    "**Task 1** (0.5 points) <br/>\n",
    "Create a random array (`np.random.rand()`) with length of 17 and with sum of its elements equals to 6."
   ]
  },
  {
   "cell_type": "code",
   "execution_count": 48,
   "metadata": {},
   "outputs": [
    {
     "name": "stdout",
     "output_type": "stream",
     "text": [
      "Length: 17\n",
      "Sum of elements: 6.0\n"
     ]
    }
   ],
   "source": [
    "my_array = np.random.rand(17)\n",
    "my_array /= sum(my_array)/6\n",
    "\n",
    "print(f'Length: {len(my_array)}')\n",
    "print(f'Sum of elements: {np.sum(my_array)}')"
   ]
  },
  {
   "cell_type": "markdown",
   "metadata": {},
   "source": [
    "**Task 2** (0.5 points) <br/>\n",
    "Create two random arrays $a$ and $b$ with the same length. \n",
    "\n",
    "Calculate the following distances between the arrays **without using special funcrion. You may only use basic numpy operations (`np.linalg.*` and other high-level ones are prohibited).**:\n",
    "\n",
    "* Manhattan Distance\n",
    "$$ d(a, b) = \\sum_i |a_i - b_i| $$\n",
    "* Euclidean Distance\n",
    "$$ d(a, b) = \\sqrt{\\sum_i (a_i - b_i)^2} $$\n",
    "* Chebyshev Distance\n",
    "$$ d(a, b) = \\underset{i}{max} |a_i - b_i| $$\n",
    "* Cosine Distance\n",
    "$$ d(a, b) = 1 - \\frac{a^\\top b}{||a||_2\\cdot||b||_2} $$\n"
   ]
  },
  {
   "cell_type": "code",
   "execution_count": 84,
   "metadata": {},
   "outputs": [],
   "source": [
    "def calculate_manhattan(a, b):\n",
    "\n",
    "    distance = sum(np.abs(a - b))\n",
    "    \n",
    "    return distance\n",
    "\n",
    "def euc_norm(a):\n",
    "    \n",
    "    return np.sqrt(np.sum(np.power(a, 2)))\n",
    "\n",
    "def calculate_euclidean(a, b):    \n",
    "\n",
    "    distance = euc_norm(a - b)\n",
    "    \n",
    "    return distance\n",
    "\n",
    "def calculate_chebyshev(a, b):    \n",
    "    \n",
    "    distance = np.max(a - b)\n",
    "    \n",
    "    return distance\n",
    "\n",
    "def calculate_cosine(a, b):\n",
    "    \n",
    "    distance = 1 - (np.dot(a, b)) / (euc_norm(a) * euc_norm(b))\n",
    "\n",
    "    return distance"
   ]
  },
  {
   "cell_type": "code",
   "execution_count": 85,
   "metadata": {},
   "outputs": [
    {
     "name": "stdout",
     "output_type": "stream",
     "text": [
      "Manhattan distance: 3341.9055578306475\n",
      "Euclidean distance: 40.900381311715996\n",
      "Chebyshev distance: 0.9913923000741631\n",
      "Cosine distance: 0.25241322680447464\n"
     ]
    }
   ],
   "source": [
    "l = 10000\n",
    "a = np.random.rand(l)\n",
    "b = np.random.rand(l)\n",
    "print(f'Manhattan distance: {calculate_manhattan(a, b)}')\n",
    "print(f'Euclidean distance: {calculate_euclidean(a, b)}')\n",
    "print(f'Chebyshev distance: {calculate_chebyshev(a, b)}')\n",
    "print(f'Cosine distance: {calculate_cosine(a, b)}')"
   ]
  },
  {
   "cell_type": "markdown",
   "metadata": {},
   "source": [
    "**Task 3** (0.5 points) <br/>\n",
    "Create a random array (`np.random.randint()`) with length of 76. Transform the array so that \n",
    "* Maximum element(s) value is -1\n",
    "* Minimum element(s) value is -4\n",
    "* Other values are in interval (-4; -1) with keeping the order"
   ]
  },
  {
   "cell_type": "code",
   "execution_count": 207,
   "metadata": {},
   "outputs": [],
   "source": [
    "def transform(array, low_b, up_b):\n",
    "    \n",
    "    a_max = np.max(array)\n",
    "    a_min = np.min(array)\n",
    "    \n",
    "    transformed_array = up_b + (array - np.min(array)) / (np.max(array) - np.min(array)) * (low_b - up_b)\n",
    "    \n",
    "    return transformed_array"
   ]
  },
  {
   "cell_type": "code",
   "execution_count": 211,
   "metadata": {},
   "outputs": [
    {
     "name": "stdout",
     "output_type": "stream",
     "text": [
      "Min: -4.0\n",
      "Max: -1.0\n",
      "Array:\n",
      "[-2.21490444 -3.75302565 -1.40740992 -1.2283404  -4.         -3.76267626\n",
      " -1.         -3.78636069 -3.14671468 -2.9597512 ]\n"
     ]
    }
   ],
   "source": [
    "my_array = np.random.rand(10)\n",
    "my_array = transform(my_array, -4, -1)\n",
    "print(f'Min: {np.min(my_array)}')\n",
    "print(f'Max: {np.max(my_array)}')\n",
    "print('Array:')\n",
    "print(my_array)"
   ]
  },
  {
   "cell_type": "markdown",
   "metadata": {},
   "source": [
    "**Task 4** (0.5 points) <br/>\n",
    "Create an array with shape of $8 \\times 5$ with integers from [-7, 43]. Print a column that contains the maximum element of the array."
   ]
  },
  {
   "cell_type": "code",
   "execution_count": 239,
   "metadata": {},
   "outputs": [
    {
     "name": "stdout",
     "output_type": "stream",
     "text": [
      "Shape:  (8, 5)\n",
      "Array:\n",
      "[[12.11126241  1.94471906 18.5130159  -7.         39.52889251]\n",
      " [-2.01972536  3.64678539 19.30910193 -0.97537433  6.27814402]\n",
      " [28.26874502 31.5306732  21.43756297 43.         40.22620117]\n",
      " [23.15362767 29.08714633 38.91870571 37.20296805 40.28390302]\n",
      " [19.13076402 33.50350776 21.72942988 19.86591921 20.40682767]\n",
      " [18.73424507  8.70968046 -0.16922678 22.39365371 40.61604109]\n",
      " [ 9.66429421  6.39853165 29.55320303 27.25750009  0.17790562]\n",
      " [-4.56570692  8.47679183  7.36589894 33.52810751 17.78890666]]\n",
      "Selected column: [-7.         -0.97537433 43.         37.20296805 19.86591921 22.39365371\n",
      " 27.25750009 33.52810751]\n"
     ]
    }
   ],
   "source": [
    "my_array = transform(np.random.rand(8, 5), -7, 43)\n",
    "selected_column = my_array[:, np.argmax(np.max(my_array, axis=0))]\n",
    "print('Shape: ', my_array.shape)\n",
    "print('Array:')\n",
    "print(my_array)\n",
    "print(f'Selected column: {selected_column}')"
   ]
  },
  {
   "cell_type": "markdown",
   "metadata": {},
   "source": [
    "**Task 5** (0.5 points) <br/>\n",
    "\n",
    "Replace all missing values in the following array with median."
   ]
  },
  {
   "cell_type": "code",
   "execution_count": 283,
   "metadata": {},
   "outputs": [
    {
     "name": "stdout",
     "output_type": "stream",
     "text": [
      "Array:\n",
      "[0.4580367  0.82085215 0.61491772        nan 0.91921657        nan\n",
      " 0.21007638 0.80832436        nan        nan]\n"
     ]
    }
   ],
   "source": [
    "arr = np.random.rand(10)\n",
    "idx = np.random.randint(0, 10, 4)\n",
    "arr[idx] = np.nan\n",
    "\n",
    "print('Array:')\n",
    "print(arr)"
   ]
  },
  {
   "cell_type": "code",
   "execution_count": 284,
   "metadata": {},
   "outputs": [],
   "source": [
    "def replace_missing(arr):\n",
    "    array_without_missing = np.copy(arr)\n",
    "    \n",
    "    inds = np.where(np.isnan(array_without_missing))\n",
    "    array_without_missing[inds] = np.nanmedian(array_without_missing)\n",
    "    \n",
    "    return array_without_missing"
   ]
  },
  {
   "cell_type": "code",
   "execution_count": 285,
   "metadata": {},
   "outputs": [
    {
     "name": "stdout",
     "output_type": "stream",
     "text": [
      "Array with no missing values:\n",
      "[0.4580367  0.82085215 0.61491772 0.71162104 0.91921657 0.71162104\n",
      " 0.21007638 0.80832436 0.71162104 0.71162104]\n"
     ]
    }
   ],
   "source": [
    "arr = replace_missing(arr)\n",
    "print('Array with no missing values:')\n",
    "print(arr)\n"
   ]
  },
  {
   "cell_type": "markdown",
   "metadata": {},
   "source": [
    "**Task 6** (0.5 points) <br/>\n",
    "Create a function which takes an image ```X``` (3D array of the shape (n, m, 3)) as an input and returns the mean for all 3 channels (a vector of shape 3)."
   ]
  },
  {
   "cell_type": "code",
   "execution_count": 295,
   "metadata": {},
   "outputs": [],
   "source": [
    "def mean_channel(X):\n",
    "    mean_vector = np.mean(X, axis=(0,1))\n",
    "    return mean_vector"
   ]
  },
  {
   "cell_type": "code",
   "execution_count": 296,
   "metadata": {
    "scrolled": true
   },
   "outputs": [
    {
     "data": {
      "text/plain": [
       "array([-1.92448513, -1.79176201, -1.82837529])"
      ]
     },
     "execution_count": 296,
     "metadata": {},
     "output_type": "execute_result"
    }
   ],
   "source": [
    "n = 19\n",
    "m = 23\n",
    "X =  np.random.randint(-11, 8, size=(n, m, 3))\n",
    "mean_channel(X)"
   ]
  },
  {
   "cell_type": "markdown",
   "metadata": {},
   "source": [
    "### **Task 7** (1 points) <br/>\n",
    "Create a function which takes a 3D matrix ```X``` as an input and returns all its unique vertical (first axis) layers.\n",
    "\n",
    "Sample input:\n",
    "\n",
    "     ([[[1, 2, 3],\n",
    "        [1, 2, 3],\n",
    "        [1, 2, 3]],\n",
    "\n",
    "       [[4, 5, 6],\n",
    "        [4, 5, 7]\n",
    "        [4, 5, 6]],\n",
    "\n",
    "       [[7, 8, 9],\n",
    "        [7, 8, 9]\n",
    "        [7, 8, 9]]])\n",
    "        \n",
    "Sample output:\n",
    "\n",
    "     ([[[1, 2, 3],\n",
    "        [1, 2, 3]],\n",
    "\n",
    "       [[4, 5, 6],\n",
    "        [4, 5, 7]],\n",
    "\n",
    "       [[7, 8, 9],\n",
    "        [7, 8, 9]]])"
   ]
  },
  {
   "cell_type": "code",
   "execution_count": 341,
   "metadata": {},
   "outputs": [],
   "source": [
    "def get_unique(X):\n",
    "    X_unique = np.unique(X, axis=1)\n",
    "    return X_unique"
   ]
  },
  {
   "cell_type": "code",
   "execution_count": 384,
   "metadata": {},
   "outputs": [
    {
     "name": "stdout",
     "output_type": "stream",
     "text": [
      "Matrix:\n",
      "[[[5 5 5]\n",
      "  [4 5 5]\n",
      "  [5 5 4]]\n",
      "\n",
      " [[5 4 4]\n",
      "  [4 5 5]\n",
      "  [5 5 4]]\n",
      "\n",
      " [[5 4 4]\n",
      "  [5 5 5]\n",
      "  [4 5 4]]\n",
      "\n",
      " [[5 4 4]\n",
      "  [5 5 5]\n",
      "  [5 5 4]]\n",
      "\n",
      " [[4 4 4]\n",
      "  [5 4 4]\n",
      "  [5 5 4]]\n",
      "\n",
      " [[5 4 4]\n",
      "  [4 5 4]\n",
      "  [5 5 4]]\n",
      "\n",
      " [[5 4 5]\n",
      "  [5 5 5]\n",
      "  [4 5 4]]\n",
      "\n",
      " [[5 4 4]\n",
      "  [4 5 5]\n",
      "  [5 5 4]]\n",
      "\n",
      " [[5 4 4]\n",
      "  [4 4 5]\n",
      "  [4 4 5]]\n",
      "\n",
      " [[5 4 4]\n",
      "  [4 5 4]\n",
      "  [4 4 4]]\n",
      "\n",
      " [[5 5 4]\n",
      "  [4 5 4]\n",
      "  [5 4 4]]\n",
      "\n",
      " [[5 4 4]\n",
      "  [5 4 5]\n",
      "  [4 5 4]]\n",
      "\n",
      " [[5 4 5]\n",
      "  [5 4 5]\n",
      "  [4 4 5]]\n",
      "\n",
      " [[4 4 5]\n",
      "  [4 5 4]\n",
      "  [4 5 5]]\n",
      "\n",
      " [[5 4 5]\n",
      "  [5 4 4]\n",
      "  [4 4 5]]\n",
      "\n",
      " [[5 5 4]\n",
      "  [5 5 4]\n",
      "  [4 4 4]]\n",
      "\n",
      " [[4 4 5]\n",
      "  [4 5 5]\n",
      "  [5 4 4]]\n",
      "\n",
      " [[4 5 4]\n",
      "  [5 5 5]\n",
      "  [4 4 5]]\n",
      "\n",
      " [[5 4 4]\n",
      "  [5 4 4]\n",
      "  [5 5 5]]]\n",
      "Unique rows:\n"
     ]
    },
    {
     "data": {
      "text/plain": [
       "array([[[4, 5, 5],\n",
       "        [5, 5, 4],\n",
       "        [5, 5, 5]],\n",
       "\n",
       "       [[4, 5, 5],\n",
       "        [5, 5, 4],\n",
       "        [5, 4, 4]],\n",
       "\n",
       "       [[5, 5, 5],\n",
       "        [4, 5, 4],\n",
       "        [5, 4, 4]],\n",
       "\n",
       "       [[5, 5, 5],\n",
       "        [5, 5, 4],\n",
       "        [5, 4, 4]],\n",
       "\n",
       "       [[5, 4, 4],\n",
       "        [5, 5, 4],\n",
       "        [4, 4, 4]],\n",
       "\n",
       "       [[4, 5, 4],\n",
       "        [5, 5, 4],\n",
       "        [5, 4, 4]],\n",
       "\n",
       "       [[5, 5, 5],\n",
       "        [4, 5, 4],\n",
       "        [5, 4, 5]],\n",
       "\n",
       "       [[4, 5, 5],\n",
       "        [5, 5, 4],\n",
       "        [5, 4, 4]],\n",
       "\n",
       "       [[4, 4, 5],\n",
       "        [4, 4, 5],\n",
       "        [5, 4, 4]],\n",
       "\n",
       "       [[4, 5, 4],\n",
       "        [4, 4, 4],\n",
       "        [5, 4, 4]],\n",
       "\n",
       "       [[4, 5, 4],\n",
       "        [5, 4, 4],\n",
       "        [5, 5, 4]],\n",
       "\n",
       "       [[5, 4, 5],\n",
       "        [4, 5, 4],\n",
       "        [5, 4, 4]],\n",
       "\n",
       "       [[5, 4, 5],\n",
       "        [4, 4, 5],\n",
       "        [5, 4, 5]],\n",
       "\n",
       "       [[4, 5, 4],\n",
       "        [4, 5, 5],\n",
       "        [4, 4, 5]],\n",
       "\n",
       "       [[5, 4, 4],\n",
       "        [4, 4, 5],\n",
       "        [5, 4, 5]],\n",
       "\n",
       "       [[5, 5, 4],\n",
       "        [4, 4, 4],\n",
       "        [5, 5, 4]],\n",
       "\n",
       "       [[4, 5, 5],\n",
       "        [5, 4, 4],\n",
       "        [4, 4, 5]],\n",
       "\n",
       "       [[5, 5, 5],\n",
       "        [4, 4, 5],\n",
       "        [4, 5, 4]],\n",
       "\n",
       "       [[5, 4, 4],\n",
       "        [5, 5, 5],\n",
       "        [5, 4, 4]]])"
      ]
     },
     "execution_count": 384,
     "metadata": {},
     "output_type": "execute_result"
    }
   ],
   "source": [
    "X =  np.random.randint(4, 6, size=(n, 3, 3))\n",
    "\n",
    "print('Matrix:')\n",
    "print(X)\n",
    "print('Unique rows:')\n",
    "get_unique(X)"
   ]
  },
  {
   "cell_type": "markdown",
   "metadata": {},
   "source": [
    "# 3. Pandas & Visualization (4 points)\n"
   ]
  },
  {
   "cell_type": "markdown",
   "metadata": {},
   "source": [
    "You are going to work with *Titanic* dataset which contains information about passengers of Titanic:\n",
    "- **Survived** - 1 - survived, 0 - died (0); **Target variable**\n",
    "- **pclass** - passengers's class;\n",
    "- **sex** - passengers's sex\n",
    "- **Age** - passengers's age in years\n",
    "- **sibsp**    - is the passenger someones siblings   \n",
    "- **parch**    - is the passenger someones child or parent\n",
    "- **ticket** - ticket number    \n",
    "- **fare** - ticket price    \n",
    "- **cabin** - cabin number\n",
    "- **embarked** - port of Embarkation; C = Cherbourg, Q = Queenstown, S = Southampton\n",
    "\n",
    "**Note** for all visualizations use matplotlib or seaborn but NOT plotly! Plotly's graphics sometimes vanish after saving. In this case the task wont't be graded.\n",
    "\n",
    "**Note** support all your answers with necessary code, computations, vizualization, and explanation. Answers without code and explanation won't be graded.\n",
    "\n",
    "**Task 0** (0 points) \\\n",
    "Load the dataset and print first 5 rows"
   ]
  },
  {
   "cell_type": "code",
   "execution_count": 583,
   "metadata": {},
   "outputs": [
    {
     "name": "stdout",
     "output_type": "stream",
     "text": [
      "(891, 12)\n"
     ]
    },
    {
     "data": {
      "text/html": [
       "<div>\n",
       "<style scoped>\n",
       "    .dataframe tbody tr th:only-of-type {\n",
       "        vertical-align: middle;\n",
       "    }\n",
       "\n",
       "    .dataframe tbody tr th {\n",
       "        vertical-align: top;\n",
       "    }\n",
       "\n",
       "    .dataframe thead th {\n",
       "        text-align: right;\n",
       "    }\n",
       "</style>\n",
       "<table border=\"1\" class=\"dataframe\">\n",
       "  <thead>\n",
       "    <tr style=\"text-align: right;\">\n",
       "      <th></th>\n",
       "      <th>PassengerId</th>\n",
       "      <th>Survived</th>\n",
       "      <th>Pclass</th>\n",
       "      <th>Name</th>\n",
       "      <th>Sex</th>\n",
       "      <th>Age</th>\n",
       "      <th>SibSp</th>\n",
       "      <th>Parch</th>\n",
       "      <th>Ticket</th>\n",
       "      <th>Fare</th>\n",
       "      <th>Cabin</th>\n",
       "      <th>Embarked</th>\n",
       "    </tr>\n",
       "  </thead>\n",
       "  <tbody>\n",
       "    <tr>\n",
       "      <th>0</th>\n",
       "      <td>1</td>\n",
       "      <td>0</td>\n",
       "      <td>3</td>\n",
       "      <td>Braund, Mr. Owen Harris</td>\n",
       "      <td>male</td>\n",
       "      <td>22.0</td>\n",
       "      <td>1</td>\n",
       "      <td>0</td>\n",
       "      <td>A/5 21171</td>\n",
       "      <td>7.2500</td>\n",
       "      <td>NaN</td>\n",
       "      <td>S</td>\n",
       "    </tr>\n",
       "    <tr>\n",
       "      <th>1</th>\n",
       "      <td>2</td>\n",
       "      <td>1</td>\n",
       "      <td>1</td>\n",
       "      <td>Cumings, Mrs. John Bradley (Florence Briggs Th...</td>\n",
       "      <td>female</td>\n",
       "      <td>38.0</td>\n",
       "      <td>1</td>\n",
       "      <td>0</td>\n",
       "      <td>PC 17599</td>\n",
       "      <td>71.2833</td>\n",
       "      <td>C85</td>\n",
       "      <td>C</td>\n",
       "    </tr>\n",
       "    <tr>\n",
       "      <th>2</th>\n",
       "      <td>3</td>\n",
       "      <td>1</td>\n",
       "      <td>3</td>\n",
       "      <td>Heikkinen, Miss. Laina</td>\n",
       "      <td>female</td>\n",
       "      <td>26.0</td>\n",
       "      <td>0</td>\n",
       "      <td>0</td>\n",
       "      <td>STON/O2. 3101282</td>\n",
       "      <td>7.9250</td>\n",
       "      <td>NaN</td>\n",
       "      <td>S</td>\n",
       "    </tr>\n",
       "    <tr>\n",
       "      <th>3</th>\n",
       "      <td>4</td>\n",
       "      <td>1</td>\n",
       "      <td>1</td>\n",
       "      <td>Futrelle, Mrs. Jacques Heath (Lily May Peel)</td>\n",
       "      <td>female</td>\n",
       "      <td>35.0</td>\n",
       "      <td>1</td>\n",
       "      <td>0</td>\n",
       "      <td>113803</td>\n",
       "      <td>53.1000</td>\n",
       "      <td>C123</td>\n",
       "      <td>S</td>\n",
       "    </tr>\n",
       "    <tr>\n",
       "      <th>4</th>\n",
       "      <td>5</td>\n",
       "      <td>0</td>\n",
       "      <td>3</td>\n",
       "      <td>Allen, Mr. William Henry</td>\n",
       "      <td>male</td>\n",
       "      <td>35.0</td>\n",
       "      <td>0</td>\n",
       "      <td>0</td>\n",
       "      <td>373450</td>\n",
       "      <td>8.0500</td>\n",
       "      <td>NaN</td>\n",
       "      <td>S</td>\n",
       "    </tr>\n",
       "  </tbody>\n",
       "</table>\n",
       "</div>"
      ],
      "text/plain": [
       "   PassengerId  Survived  Pclass  \\\n",
       "0            1         0       3   \n",
       "1            2         1       1   \n",
       "2            3         1       3   \n",
       "3            4         1       1   \n",
       "4            5         0       3   \n",
       "\n",
       "                                                Name     Sex   Age  SibSp  \\\n",
       "0                            Braund, Mr. Owen Harris    male  22.0      1   \n",
       "1  Cumings, Mrs. John Bradley (Florence Briggs Th...  female  38.0      1   \n",
       "2                             Heikkinen, Miss. Laina  female  26.0      0   \n",
       "3       Futrelle, Mrs. Jacques Heath (Lily May Peel)  female  35.0      1   \n",
       "4                           Allen, Mr. William Henry    male  35.0      0   \n",
       "\n",
       "   Parch            Ticket     Fare Cabin Embarked  \n",
       "0      0         A/5 21171   7.2500   NaN        S  \n",
       "1      0          PC 17599  71.2833   C85        C  \n",
       "2      0  STON/O2. 3101282   7.9250   NaN        S  \n",
       "3      0            113803  53.1000  C123        S  \n",
       "4      0            373450   8.0500   NaN        S  "
      ]
     },
     "execution_count": 583,
     "metadata": {},
     "output_type": "execute_result"
    }
   ],
   "source": [
    "dataset =  pd.read_csv('titanic.csv')\n",
    "print(dataset.shape)\n",
    "dataset.head()"
   ]
  },
  {
   "cell_type": "markdown",
   "metadata": {},
   "source": [
    "**Task 1** (1 points) <br/>\n",
    "Answer the following questions:\n",
    "    \n",
    "    * Are there any missing values? In what columns?\n",
    "    * What is the percentage of survived passengers? Are the classes balanced?\n",
    "    * Were there more males or females?\n",
    "    * What what the least popular port of embarkation?\n",
    "    * How many classes (pclass) were there on Tinanic?\n",
    "    * What is the overall average ticket fare? And for every class?\n",
    "Please, write not only the answers but the code, proving it."
   ]
  },
  {
   "cell_type": "code",
   "execution_count": 437,
   "metadata": {},
   "outputs": [
    {
     "name": "stdout",
     "output_type": "stream",
     "text": [
      "Columns with missing values: \n",
      "['Age', 'Cabin', 'Embarked']\n"
     ]
    }
   ],
   "source": [
    "# 1\n",
    "cols = dataset.columns[pd.isnull(dataset).any()]\n",
    "print(f\"Columns with missing values: \\n{[col for col in cols]}\")"
   ]
  },
  {
   "cell_type": "code",
   "execution_count": 426,
   "metadata": {},
   "outputs": [
    {
     "name": "stdout",
     "output_type": "stream",
     "text": [
      "Percentage is : 38.38%\n",
      "Relatively balanced I guess\n"
     ]
    }
   ],
   "source": [
    "# 2\n",
    "survived_amount = dataset[dataset['Survived'] == 1].shape[0]\n",
    "whole_amount = dataset.shape[0]\n",
    "\n",
    "# Percentage is\n",
    "print(\"Percentage is : {:.2f}%\".format(survived_amount / whole_amount * 100))\n",
    "print(\"Relatively balanced I guess\")"
   ]
  },
  {
   "cell_type": "code",
   "execution_count": 448,
   "metadata": {},
   "outputs": [
    {
     "name": "stdout",
     "output_type": "stream",
     "text": [
      "Male amount > female amount\n"
     ]
    }
   ],
   "source": [
    "# 3\n",
    "male_amount = dataset[dataset['Sex'] == 'male'].shape[0]\n",
    "female_amount = dataset[dataset['Sex'] == 'female'].shape[0]\n",
    "\n",
    "print(\"Male amount {} female amount\".format('>' if male_amount > female_amount else '<' if male_amount < female_amount else '=' ))\n"
   ]
  },
  {
   "cell_type": "code",
   "execution_count": 474,
   "metadata": {},
   "outputs": [
    {
     "data": {
      "text/plain": [
       "S    644\n",
       "C    168\n",
       "Q     77\n",
       "Name: Embarked, dtype: int64"
      ]
     },
     "execution_count": 474,
     "metadata": {},
     "output_type": "execute_result"
    }
   ],
   "source": [
    "# 4\n",
    "data = dataset.Embarked\n",
    "data.value_counts()\n",
    "# Видно что из Queenstown меньше всего "
   ]
  },
  {
   "cell_type": "code",
   "execution_count": 477,
   "metadata": {},
   "outputs": [
    {
     "name": "stdout",
     "output_type": "stream",
     "text": [
      "Было 3 различных класса\n"
     ]
    }
   ],
   "source": [
    "# 5\n",
    "data = dataset.Pclass\n",
    "amount = data.value_counts().shape[0]\n",
    "print(f\"Было {amount} различных класса\")"
   ]
  },
  {
   "cell_type": "code",
   "execution_count": 490,
   "metadata": {},
   "outputs": [
    {
     "name": "stdout",
     "output_type": "stream",
     "text": [
      "Mean fare overall: 32.2042079685746\n",
      "Mean fare of the first class: 84.15468749999992\n",
      "Mean fare of the second class: 20.66218315217391\n",
      "Mean fare of th third class: 13.675550101832997\n"
     ]
    }
   ],
   "source": [
    "# 6\n",
    "overall_mean = dataset.Fare.mean()\n",
    "\n",
    "first_mean = dataset[dataset[\"Pclass\"] == 1].Fare.mean()\n",
    "\n",
    "second_mean = dataset[dataset[\"Pclass\"] == 2].Fare.mean()\n",
    "\n",
    "third_mean = dataset[dataset[\"Pclass\"] == 3].Fare.mean()\n",
    "\n",
    "print(f\"Mean fare overall: {overall_mean}\")\n",
    "print(f\"Mean fare of the first class: {first_mean}\")\n",
    "print(f\"Mean fare of the second class: {second_mean}\")\n",
    "print(f\"Mean fare of th third class: {third_mean}\")\n"
   ]
  },
  {
   "cell_type": "markdown",
   "metadata": {},
   "source": [
    "**Task 2** (0.5 points) <br/>\n",
    "Visualize age distribution (you may use a histogram, for example). \n",
    "\n",
    "    * What is the minimal and maximum ages of the passengers? Visualize it on the plot\n",
    "    * What is the mean age? And among males and females sepatately? Visualize it on the plot\n",
    "    * Make conclusions about what you see on the plot"
   ]
  },
  {
   "cell_type": "code",
   "execution_count": 510,
   "metadata": {},
   "outputs": [
    {
     "name": "stdout",
     "output_type": "stream",
     "text": [
      "Minimum age: 0.42\n",
      "Maximum age: 80.0\n"
     ]
    }
   ],
   "source": [
    "print(f\"Minimum age: {dataset.Age.min()}\")\n",
    "print(f\"Maximum age: {dataset.Age.max()}\")"
   ]
  },
  {
   "cell_type": "code",
   "execution_count": 547,
   "metadata": {},
   "outputs": [
    {
     "name": "stdout",
     "output_type": "stream",
     "text": [
      "Количество человек определенного возраста\n"
     ]
    },
    {
     "data": {
      "image/png": "[encoded data removed]",
      "text/plain": [
       "<Figure size 640x480 with 1 Axes>"
      ]
     },
     "metadata": {},
     "output_type": "display_data"
    }
   ],
   "source": [
    "sns.histplot(dataset.Age, bins=32)\n",
    "print(\"Количество человек определенного возраста\")"
   ]
  },
  {
   "cell_type": "code",
   "execution_count": 542,
   "metadata": {},
   "outputs": [
    {
     "name": "stdout",
     "output_type": "stream",
     "text": [
      "Whole mean age: 29.69911764705882\n",
      "Male mean age: 30.72664459161148\n",
      "Female mean age: 27.915708812260537\n"
     ]
    },
    {
     "data": {
      "text/plain": [
       "<BarContainer object of 3 artists>"
      ]
     },
     "execution_count": 542,
     "metadata": {},
     "output_type": "execute_result"
    },
    {
     "data": {
      "image/png": "[encoded data removed]",
      "text/plain": [
       "<Figure size 640x480 with 1 Axes>"
      ]
     },
     "metadata": {},
     "output_type": "display_data"
    }
   ],
   "source": [
    "w_mean = dataset.Age.mean()\n",
    "m_mean = dataset.Age[dataset.Sex == 'male'].mean()\n",
    "f_mean = dataset.Age[dataset.Sex == 'female'].mean()\n",
    "\n",
    "print(f\"Whole mean age: {w_mean}\")\n",
    "print(f\"Male mean age: {m_mean}\")\n",
    "print(f\"Female mean age: {f_mean}\")\n",
    "\n",
    "plt.bar((\"whole mean\", \"male_mean\", \"female_mean\"), width=0.8, height = (w_mean, m_mean, f_mean))"
   ]
  },
  {
   "cell_type": "markdown",
   "metadata": {},
   "source": [
    "На графиках я вижу что большинство людей на титанике были в возрасте двадцати - сорока лет\n",
    "\n",
    "При это было весьма большое количество детей в возрасте до по сравнению в среднем со более старшими ребятами вплоть до 15\n",
    "\n",
    "Также могу заметить, что средний возраст находящихся на судне мужчин превышал средний возраст женщин\n"
   ]
  },
  {
   "cell_type": "markdown",
   "metadata": {},
   "source": [
    "**Task 3** (1 points) <br/>\n",
    "Find all the titles of the passengers (example, *Capt., Mr.,Mme.*), which are written in the column Name, and answer the following questions:\n",
    "\n",
    "    * How many are there unique titles?\n",
    "    * How many are there passengers with every title?\n",
    "    * What is the most popular man's title? And woman's title?\n",
    "    \n",
    "**Hint** You may select the title from the name as a word which contains a dot."
   ]
  },
  {
   "cell_type": "code",
   "execution_count": 597,
   "metadata": {},
   "outputs": [],
   "source": [
    "import re\n",
    "import inspect\n",
    "\n",
    "def titles_freq(data):\n",
    "    pat = \"[^ \\.\\s]+\\.{1}\"\n",
    "    freq = dict()\n",
    "    for d in data:\n",
    "        s = re.search(pat, d)\n",
    "        title = (s.string[s.regs[0][0]:s.regs[0][1]])\n",
    "        if title in freq:\n",
    "            freq[title] += 1\n",
    "        else:\n",
    "            freq[title] = 1\n",
    "    return freq"
   ]
  },
  {
   "cell_type": "code",
   "execution_count": 600,
   "metadata": {},
   "outputs": [
    {
     "name": "stdout",
     "output_type": "stream",
     "text": [
      "There are 17 titles\n",
      "\n",
      " Mr.\t-\t517\n",
      " Mrs.\t-\t125\n",
      " Miss.\t-\t182\n",
      " Master.\t-\t40\n",
      " Don.\t-\t1\n",
      " Rev.\t-\t6\n",
      " Dr.\t-\t7\n",
      " Mme.\t-\t1\n",
      " Ms.\t-\t1\n",
      " Major.\t-\t2\n",
      " Lady.\t-\t1\n",
      " Sir.\t-\t1\n",
      " Mlle.\t-\t2\n",
      " Col.\t-\t2\n",
      " Capt.\t-\t1\n",
      " Countess.\t-\t1\n",
      " Jonkheer.\t-\t1\n"
     ]
    },
    {
     "data": {
      "text/plain": [
       "<BarContainer object of 17 artists>"
      ]
     },
     "execution_count": 600,
     "metadata": {},
     "output_type": "execute_result"
    },
    {
     "data": {
      "image/png": "[encoded data removed]",
      "text/plain": [
       "<Figure size 640x480 with 1 Axes>"
      ]
     },
     "metadata": {},
     "output_type": "display_data"
    }
   ],
   "source": [
    "freq = titles_freq(dataset.Name)\n",
    "print(f\"There are {len(freq)} titles\\n\")\n",
    "for f in freq:\n",
    "    print(f\" {f}\\t-\\t{freq[f]}\")\n",
    "    \n",
    "plt.bar(list(freq.keys()), height = [freq[n] for n in freq], width=0.9, align='edge')\n"
   ]
  },
  {
   "cell_type": "code",
   "execution_count": 608,
   "metadata": {},
   "outputs": [
    {
     "name": "stdout",
     "output_type": "stream",
     "text": [
      "Most popular female's title is Miss. with freq: 182\n",
      "Most popular male's title is Mr. with freq: 517\n"
     ]
    }
   ],
   "source": [
    "m_freq = titles_freq(dataset.Name[dataset.Sex=='male'])\n",
    "f_freq = titles_freq(dataset.Name[dataset.Sex=='female'])\n",
    "\n",
    "m_max = max(m_freq, key=m_freq.get)\n",
    "f_max = max(f_freq, key=f_freq.get)\n",
    "\n",
    "print(f\"Most popular female's title is {f_max} with freq: {f_freq[f_max]}\")\n",
    "print(f\"Most popular male's title is {m_max} with freq: {m_freq[m_max]}\")"
   ]
  },
  {
   "cell_type": "markdown",
   "metadata": {},
   "source": [
    "**Task 4** (0.5 points) <br/>\n",
    "Is there correlation between *pclass* and *ticket price*? Calculate mean price for each port and visualize prize distribution for each port. Make conclusions about what you see on the plot\n",
    "\n",
    "Hint: you could make one or several plot types i.e.  box, violine, pair, histogram (see additional notebooks for Seminar 1 \"Visualization with Seaborn\"). main point here is to **choose** plots wisely and **make meaningful conclusions**\n",
    "\n"
   ]
  },
  {
   "cell_type": "code",
   "execution_count": 609,
   "metadata": {},
   "outputs": [
    {
     "data": {
      "text/html": [
       "<div>\n",
       "<style scoped>\n",
       "    .dataframe tbody tr th:only-of-type {\n",
       "        vertical-align: middle;\n",
       "    }\n",
       "\n",
       "    .dataframe tbody tr th {\n",
       "        vertical-align: top;\n",
       "    }\n",
       "\n",
       "    .dataframe thead th {\n",
       "        text-align: right;\n",
       "    }\n",
       "</style>\n",
       "<table border=\"1\" class=\"dataframe\">\n",
       "  <thead>\n",
       "    <tr style=\"text-align: right;\">\n",
       "      <th></th>\n",
       "      <th>PassengerId</th>\n",
       "      <th>Survived</th>\n",
       "      <th>Pclass</th>\n",
       "      <th>Age</th>\n",
       "      <th>SibSp</th>\n",
       "      <th>Parch</th>\n",
       "      <th>Fare</th>\n",
       "    </tr>\n",
       "  </thead>\n",
       "  <tbody>\n",
       "    <tr>\n",
       "      <th>PassengerId</th>\n",
       "      <td>1.000000</td>\n",
       "      <td>-0.005007</td>\n",
       "      <td>-0.035144</td>\n",
       "      <td>0.036847</td>\n",
       "      <td>-0.057527</td>\n",
       "      <td>-0.001652</td>\n",
       "      <td>0.012658</td>\n",
       "    </tr>\n",
       "    <tr>\n",
       "      <th>Survived</th>\n",
       "      <td>-0.005007</td>\n",
       "      <td>1.000000</td>\n",
       "      <td>-0.338481</td>\n",
       "      <td>-0.077221</td>\n",
       "      <td>-0.035322</td>\n",
       "      <td>0.081629</td>\n",
       "      <td>0.257307</td>\n",
       "    </tr>\n",
       "    <tr>\n",
       "      <th>Pclass</th>\n",
       "      <td>-0.035144</td>\n",
       "      <td>-0.338481</td>\n",
       "      <td>1.000000</td>\n",
       "      <td>-0.369226</td>\n",
       "      <td>0.083081</td>\n",
       "      <td>0.018443</td>\n",
       "      <td>-0.549500</td>\n",
       "    </tr>\n",
       "    <tr>\n",
       "      <th>Age</th>\n",
       "      <td>0.036847</td>\n",
       "      <td>-0.077221</td>\n",
       "      <td>-0.369226</td>\n",
       "      <td>1.000000</td>\n",
       "      <td>-0.308247</td>\n",
       "      <td>-0.189119</td>\n",
       "      <td>0.096067</td>\n",
       "    </tr>\n",
       "    <tr>\n",
       "      <th>SibSp</th>\n",
       "      <td>-0.057527</td>\n",
       "      <td>-0.035322</td>\n",
       "      <td>0.083081</td>\n",
       "      <td>-0.308247</td>\n",
       "      <td>1.000000</td>\n",
       "      <td>0.414838</td>\n",
       "      <td>0.159651</td>\n",
       "    </tr>\n",
       "    <tr>\n",
       "      <th>Parch</th>\n",
       "      <td>-0.001652</td>\n",
       "      <td>0.081629</td>\n",
       "      <td>0.018443</td>\n",
       "      <td>-0.189119</td>\n",
       "      <td>0.414838</td>\n",
       "      <td>1.000000</td>\n",
       "      <td>0.216225</td>\n",
       "    </tr>\n",
       "    <tr>\n",
       "      <th>Fare</th>\n",
       "      <td>0.012658</td>\n",
       "      <td>0.257307</td>\n",
       "      <td>-0.549500</td>\n",
       "      <td>0.096067</td>\n",
       "      <td>0.159651</td>\n",
       "      <td>0.216225</td>\n",
       "      <td>1.000000</td>\n",
       "    </tr>\n",
       "  </tbody>\n",
       "</table>\n",
       "</div>"
      ],
      "text/plain": [
       "             PassengerId  Survived    Pclass       Age     SibSp     Parch  \\\n",
       "PassengerId     1.000000 -0.005007 -0.035144  0.036847 -0.057527 -0.001652   \n",
       "Survived       -0.005007  1.000000 -0.338481 -0.077221 -0.035322  0.081629   \n",
       "Pclass         -0.035144 -0.338481  1.000000 -0.369226  0.083081  0.018443   \n",
       "Age             0.036847 -0.077221 -0.369226  1.000000 -0.308247 -0.189119   \n",
       "SibSp          -0.057527 -0.035322  0.083081 -0.308247  1.000000  0.414838   \n",
       "Parch          -0.001652  0.081629  0.018443 -0.189119  0.414838  1.000000   \n",
       "Fare            0.012658  0.257307 -0.549500  0.096067  0.159651  0.216225   \n",
       "\n",
       "                 Fare  \n",
       "PassengerId  0.012658  \n",
       "Survived     0.257307  \n",
       "Pclass      -0.549500  \n",
       "Age          0.096067  \n",
       "SibSp        0.159651  \n",
       "Parch        0.216225  \n",
       "Fare         1.000000  "
      ]
     },
     "execution_count": 609,
     "metadata": {},
     "output_type": "execute_result"
    }
   ],
   "source": [
    "dataset.corr()"
   ]
  },
  {
   "cell_type": "markdown",
   "metadata": {},
   "source": [
    "Correlation between pclass and ticket price exists"
   ]
  },
  {
   "cell_type": "code",
   "execution_count": 641,
   "metadata": {},
   "outputs": [
    {
     "name": "stdout",
     "output_type": "stream",
     "text": [
      "Port: S. Mean ticket fare: 27.07981180124218\n",
      "Port: C. Mean ticket fare: 59.95414404761905\n",
      "Port: Q. Mean ticket fare: 13.276029870129872\n"
     ]
    },
    {
     "data": {
      "text/plain": [
       "<BarContainer object of 3 artists>"
      ]
     },
     "execution_count": 641,
     "metadata": {},
     "output_type": "execute_result"
    },
    {
     "data": {
      "image/png": "[encoded data removed]",
      "text/plain": [
       "<Figure size 640x480 with 1 Axes>"
      ]
     },
     "metadata": {},
     "output_type": "display_data"
    }
   ],
   "source": [
    "ports = [dataset.Embarked.dropna().unique()][0]\n",
    "\n",
    "p_dict = dict()\n",
    "for p in ports:\n",
    "    p_dict[p] = dataset.Fare[dataset.Embarked==p].mean()\n",
    "    print(f\"Port: {p}. Mean ticket fare: {p_dict[p]}\")\n",
    "    \n",
    "plt.bar((ports), height=[p_dict[p] for p in ports], width=0.8)\n",
    "\n",
    "# YLabel в bar не ставиться к сожалению"
   ]
  },
  {
   "cell_type": "markdown",
   "metadata": {},
   "source": [
    "Я вижу что в среднем самые дорогие билеты на титаник были в Cherbourg\n",
    "\n",
    "На втором месте по стоимости идет Саутгемптон\n",
    "\n",
    "И самые бюджетные продавались в Queenstown"
   ]
  },
  {
   "cell_type": "markdown",
   "metadata": {},
   "source": [
    "**Task 5** (0.5 points) <br/>\n",
    "The same question as in task 4 about correlation between *embarked* and *ticket priсe*."
   ]
  },
  {
   "cell_type": "code",
   "execution_count": 644,
   "metadata": {},
   "outputs": [
    {
     "data": {
      "text/html": [
       "<div>\n",
       "<style scoped>\n",
       "    .dataframe tbody tr th:only-of-type {\n",
       "        vertical-align: middle;\n",
       "    }\n",
       "\n",
       "    .dataframe tbody tr th {\n",
       "        vertical-align: top;\n",
       "    }\n",
       "\n",
       "    .dataframe thead th {\n",
       "        text-align: right;\n",
       "    }\n",
       "</style>\n",
       "<table border=\"1\" class=\"dataframe\">\n",
       "  <thead>\n",
       "    <tr style=\"text-align: right;\">\n",
       "      <th></th>\n",
       "      <th>PassengerId</th>\n",
       "      <th>Survived</th>\n",
       "      <th>Pclass</th>\n",
       "      <th>Age</th>\n",
       "      <th>SibSp</th>\n",
       "      <th>Parch</th>\n",
       "      <th>Fare</th>\n",
       "    </tr>\n",
       "  </thead>\n",
       "  <tbody>\n",
       "    <tr>\n",
       "      <th>PassengerId</th>\n",
       "      <td>1.000000</td>\n",
       "      <td>-0.005007</td>\n",
       "      <td>-0.035144</td>\n",
       "      <td>0.036847</td>\n",
       "      <td>-0.057527</td>\n",
       "      <td>-0.001652</td>\n",
       "      <td>0.012658</td>\n",
       "    </tr>\n",
       "    <tr>\n",
       "      <th>Survived</th>\n",
       "      <td>-0.005007</td>\n",
       "      <td>1.000000</td>\n",
       "      <td>-0.338481</td>\n",
       "      <td>-0.077221</td>\n",
       "      <td>-0.035322</td>\n",
       "      <td>0.081629</td>\n",
       "      <td>0.257307</td>\n",
       "    </tr>\n",
       "    <tr>\n",
       "      <th>Pclass</th>\n",
       "      <td>-0.035144</td>\n",
       "      <td>-0.338481</td>\n",
       "      <td>1.000000</td>\n",
       "      <td>-0.369226</td>\n",
       "      <td>0.083081</td>\n",
       "      <td>0.018443</td>\n",
       "      <td>-0.549500</td>\n",
       "    </tr>\n",
       "    <tr>\n",
       "      <th>Age</th>\n",
       "      <td>0.036847</td>\n",
       "      <td>-0.077221</td>\n",
       "      <td>-0.369226</td>\n",
       "      <td>1.000000</td>\n",
       "      <td>-0.308247</td>\n",
       "      <td>-0.189119</td>\n",
       "      <td>0.096067</td>\n",
       "    </tr>\n",
       "    <tr>\n",
       "      <th>SibSp</th>\n",
       "      <td>-0.057527</td>\n",
       "      <td>-0.035322</td>\n",
       "      <td>0.083081</td>\n",
       "      <td>-0.308247</td>\n",
       "      <td>1.000000</td>\n",
       "      <td>0.414838</td>\n",
       "      <td>0.159651</td>\n",
       "    </tr>\n",
       "    <tr>\n",
       "      <th>Parch</th>\n",
       "      <td>-0.001652</td>\n",
       "      <td>0.081629</td>\n",
       "      <td>0.018443</td>\n",
       "      <td>-0.189119</td>\n",
       "      <td>0.414838</td>\n",
       "      <td>1.000000</td>\n",
       "      <td>0.216225</td>\n",
       "    </tr>\n",
       "    <tr>\n",
       "      <th>Fare</th>\n",
       "      <td>0.012658</td>\n",
       "      <td>0.257307</td>\n",
       "      <td>-0.549500</td>\n",
       "      <td>0.096067</td>\n",
       "      <td>0.159651</td>\n",
       "      <td>0.216225</td>\n",
       "      <td>1.000000</td>\n",
       "    </tr>\n",
       "  </tbody>\n",
       "</table>\n",
       "</div>"
      ],
      "text/plain": [
       "             PassengerId  Survived    Pclass       Age     SibSp     Parch  \\\n",
       "PassengerId     1.000000 -0.005007 -0.035144  0.036847 -0.057527 -0.001652   \n",
       "Survived       -0.005007  1.000000 -0.338481 -0.077221 -0.035322  0.081629   \n",
       "Pclass         -0.035144 -0.338481  1.000000 -0.369226  0.083081  0.018443   \n",
       "Age             0.036847 -0.077221 -0.369226  1.000000 -0.308247 -0.189119   \n",
       "SibSp          -0.057527 -0.035322  0.083081 -0.308247  1.000000  0.414838   \n",
       "Parch          -0.001652  0.081629  0.018443 -0.189119  0.414838  1.000000   \n",
       "Fare            0.012658  0.257307 -0.549500  0.096067  0.159651  0.216225   \n",
       "\n",
       "                 Fare  \n",
       "PassengerId  0.012658  \n",
       "Survived     0.257307  \n",
       "Pclass      -0.549500  \n",
       "Age          0.096067  \n",
       "SibSp        0.159651  \n",
       "Parch        0.216225  \n",
       "Fare         1.000000  "
      ]
     },
     "execution_count": 644,
     "metadata": {},
     "output_type": "execute_result"
    }
   ],
   "source": [
    "dataset.corr()"
   ]
  },
  {
   "cell_type": "markdown",
   "metadata": {},
   "source": [
    "Ну в целом ожидаемо, что порт, как не числовое значение не посчитается этим методом.\n",
    "\n",
    "Однаком на осовании предыдущего графика мы можем навязать мнение о том, что корелляция есть, поскольку разница в средней цене между городами все таки прилична и заметна"
   ]
  },
  {
   "cell_type": "markdown",
   "metadata": {},
   "source": [
    "**Task 6** (0.5 points) <br/>\n",
    "Visualize age distribution for survived and not survived passengers separately and calculate the mean age for each class. Are they different? Provide the same visualization for males and females separately. Make conclusions about what you see on the plots"
   ]
  },
  {
   "cell_type": "code",
   "execution_count": 654,
   "metadata": {},
   "outputs": [
    {
     "name": "stdout",
     "output_type": "stream",
     "text": [
      "Mean age for survived passenger: 28.343689655172415\n"
     ]
    },
    {
     "data": {
      "image/png": "[encoded data removed]",
      "text/plain": [
       "<Figure size 640x480 with 1 Axes>"
      ]
     },
     "metadata": {},
     "output_type": "display_data"
    }
   ],
   "source": [
    "data = dataset.Age[dataset.Survived==1]\n",
    "sns.histplot(data).set_title(\"Age distribution. Survived\")\n",
    "print(f\"Mean age for survived passenger: {data.mean()}\")"
   ]
  },
  {
   "cell_type": "code",
   "execution_count": 655,
   "metadata": {},
   "outputs": [
    {
     "name": "stdout",
     "output_type": "stream",
     "text": [
      "Mean age for non survived: 30.62617924528302\n"
     ]
    },
    {
     "data": {
      "image/png": "[encoded data removed]",
      "text/plain": [
       "<Figure size 640x480 with 1 Axes>"
      ]
     },
     "metadata": {},
     "output_type": "display_data"
    }
   ],
   "source": [
    "data = dataset.Age[dataset.Survived==0]\n",
    "sns.histplot(data).set_title(\"Age distribution. Non survived\")\n",
    "print(f\"Mean age for non survived: {data.mean()}\")"
   ]
  },
  {
   "cell_type": "markdown",
   "metadata": {},
   "source": [
    "Судя по графику, заметно, что акцент на спасение был прежде всего на детях. Более того, даже средний возраст у выживших оказался ниже, пусть и не на много.\n",
    "\n",
    "Можно также заметить, что графики отличаются у границ возрастного диапазона, то есть в начале и в конце. Таким образом, мы можем заметить, что среди выживших пассажиров было очень мало возрастных людей 65+ и относительно много детей младшего возраста. Напротив же, на графике невыживших пассажиров  мы можем заметить, что категория лиц 65+ гораздно крупнее, 0-5 - меньше"
   ]
  },
  {
   "cell_type": "code",
   "execution_count": 665,
   "metadata": {},
   "outputs": [
    {
     "name": "stdout",
     "output_type": "stream",
     "text": [
      "Mean age for survived males: 27.276021505376345\n"
     ]
    },
    {
     "data": {
      "image/png": "[encoded data removed]",
      "text/plain": [
       "<Figure size 640x480 with 1 Axes>"
      ]
     },
     "metadata": {},
     "output_type": "display_data"
    }
   ],
   "source": [
    "data = dataset.Age[dataset.Survived==1][dataset.Sex=='male']\n",
    "sns.histplot(data).set_title(\"Age distribution. Survived. Male\")\n",
    "print(f\"Mean age for survived males: {data.mean()}\")"
   ]
  },
  {
   "cell_type": "code",
   "execution_count": 661,
   "metadata": {},
   "outputs": [
    {
     "name": "stdout",
     "output_type": "stream",
     "text": [
      "Mean age for survived females: 28.84771573604061\n"
     ]
    },
    {
     "data": {
      "image/png": "[encoded data removed]",
      "text/plain": [
       "<Figure size 640x480 with 1 Axes>"
      ]
     },
     "metadata": {},
     "output_type": "display_data"
    }
   ],
   "source": [
    "data = dataset.Age[dataset.Survived==1][dataset.Sex=='female']\n",
    "sns.histplot(data).set_title(\"Age distribution. Survived. Female\")\n",
    "print(f\"Mean age for survived females: {data.mean()}\")"
   ]
  },
  {
   "cell_type": "code",
   "execution_count": 663,
   "metadata": {},
   "outputs": [
    {
     "name": "stdout",
     "output_type": "stream",
     "text": [
      "Mean age for nonsurvived males: 31.618055555555557\n"
     ]
    },
    {
     "data": {
      "image/png": "[encoded data removed]",
      "text/plain": [
       "<Figure size 640x480 with 1 Axes>"
      ]
     },
     "metadata": {},
     "output_type": "display_data"
    }
   ],
   "source": [
    "data = dataset.Age[dataset.Survived==0][dataset.Sex=='male']\n",
    "sns.histplot(data).set_title(\"Age distribution. Non survived. Male\")\n",
    "print(f\"Mean age for nonsurvived males: {data.mean()}\")"
   ]
  },
  {
   "cell_type": "code",
   "execution_count": 664,
   "metadata": {},
   "outputs": [
    {
     "name": "stdout",
     "output_type": "stream",
     "text": [
      "Mean age for nonsurvived females: 25.046875\n"
     ]
    },
    {
     "data": {
      "image/png": "[encoded data removed]",
      "text/plain": [
       "<Figure size 640x480 with 1 Axes>"
      ]
     },
     "metadata": {},
     "output_type": "display_data"
    }
   ],
   "source": [
    "data = dataset.Age[dataset.Survived==0][dataset.Sex=='female']\n",
    "sns.histplot(data).set_title(\"Age distribution. Non survived. Female\")\n",
    "print(f\"Mean age for nonsurvived females: {data.mean()}\")"
   ]
  },
  {
   "cell_type": "markdown",
   "metadata": {},
   "source": [
    "Исходя из построенных гистограмм можно сделать вывод о том, распределения выживших мужчин и женщин отличаются тем, что спасшихся мужчин в возрасте 20 и 40 лет меньше, чем тех, кому было 35-35 лет, в то же время у женщин это распределение приблизительно равномерно. В остальном эти распределения схожи. \n",
    "\n",
    "Распределение не выживших мужчин и женщин, судя по графику, схоже"
   ]
  },
  {
   "cell_type": "markdown",
   "metadata": {},
   "source": [
    "*Спасибо за проверку!!*"
   ]
  }
 ],
 "metadata": {
  "kernelspec": {
   "display_name": "Python 3 (ipykernel)",
   "language": "python",
   "name": "python3"
  },
  "language_info": {
   "codemirror_mode": {
    "name": "ipython",
    "version": 3
   },
   "file_extension": ".py",
   "mimetype": "text/x-python",
   "name": "python",
   "nbconvert_exporter": "python",
   "pygments_lexer": "ipython3",
   "version": "3.8.13"
  }
 },
 "nbformat": 4,
 "nbformat_minor": 4
}
